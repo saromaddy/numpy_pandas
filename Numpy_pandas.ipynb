{
  "cells": [
    {
      "cell_type": "markdown",
      "metadata": {
        "colab_type": "text",
        "id": "view-in-github"
      },
      "source": [
        "<a href=\"https://colab.research.google.com/github/saromaddy/numpy_pandas/blob/main/Numpy_pandas.ipynb\" target=\"_parent\"><img src=\"https://colab.research.google.com/assets/colab-badge.svg\" alt=\"Open In Colab\"/></a>"
      ]
    },
    {
      "cell_type": "code",
      "execution_count": null,
      "metadata": {
        "id": "ENk615dp4YUV"
      },
      "outputs": [],
      "source": [
        "#numerical python - NumPY\n",
        "\n",
        "#Always the data will be in array\n",
        "#Array --> all the data in the list have similar dataset\n"
      ]
    },
    {
      "cell_type": "code",
      "execution_count": 1,
      "metadata": {
        "id": "zm_pizsf5QiZ"
      },
      "outputs": [],
      "source": [
        "import numpy as np"
      ]
    },
    {
      "cell_type": "code",
      "execution_count": 2,
      "metadata": {
        "colab": {
          "base_uri": "https://localhost:8080/"
        },
        "collapsed": true,
        "id": "oBWs6Y065R58",
        "outputId": "a03ee74b-f1c8-428c-b730-b25adda70c58"
      },
      "outputs": [
        {
          "data": {
            "text/plain": [
              "['ALLOW_THREADS',\n",
              " 'BUFSIZE',\n",
              " 'CLIP',\n",
              " 'DataSource',\n",
              " 'ERR_CALL',\n",
              " 'ERR_DEFAULT',\n",
              " 'ERR_IGNORE',\n",
              " 'ERR_LOG',\n",
              " 'ERR_PRINT',\n",
              " 'ERR_RAISE',\n",
              " 'ERR_WARN',\n",
              " 'FLOATING_POINT_SUPPORT',\n",
              " 'FPE_DIVIDEBYZERO',\n",
              " 'FPE_INVALID',\n",
              " 'FPE_OVERFLOW',\n",
              " 'FPE_UNDERFLOW',\n",
              " 'False_',\n",
              " 'Inf',\n",
              " 'Infinity',\n",
              " 'MAXDIMS',\n",
              " 'MAY_SHARE_BOUNDS',\n",
              " 'MAY_SHARE_EXACT',\n",
              " 'NAN',\n",
              " 'NINF',\n",
              " 'NZERO',\n",
              " 'NaN',\n",
              " 'PINF',\n",
              " 'PZERO',\n",
              " 'RAISE',\n",
              " 'RankWarning',\n",
              " 'SHIFT_DIVIDEBYZERO',\n",
              " 'SHIFT_INVALID',\n",
              " 'SHIFT_OVERFLOW',\n",
              " 'SHIFT_UNDERFLOW',\n",
              " 'ScalarType',\n",
              " 'True_',\n",
              " 'UFUNC_BUFSIZE_DEFAULT',\n",
              " 'UFUNC_PYVALS_NAME',\n",
              " 'WRAP',\n",
              " '_CopyMode',\n",
              " '_NoValue',\n",
              " '_UFUNC_API',\n",
              " '__NUMPY_SETUP__',\n",
              " '__all__',\n",
              " '__builtins__',\n",
              " '__cached__',\n",
              " '__config__',\n",
              " '__deprecated_attrs__',\n",
              " '__dir__',\n",
              " '__doc__',\n",
              " '__expired_functions__',\n",
              " '__file__',\n",
              " '__former_attrs__',\n",
              " '__future_scalars__',\n",
              " '__getattr__',\n",
              " '__loader__',\n",
              " '__name__',\n",
              " '__package__',\n",
              " '__path__',\n",
              " '__spec__',\n",
              " '__version__',\n",
              " '_add_newdoc_ufunc',\n",
              " '_builtins',\n",
              " '_distributor_init',\n",
              " '_financial_names',\n",
              " '_get_promotion_state',\n",
              " '_globals',\n",
              " '_int_extended_msg',\n",
              " '_mat',\n",
              " '_no_nep50_warning',\n",
              " '_pyinstaller_hooks_dir',\n",
              " '_pytesttester',\n",
              " '_set_promotion_state',\n",
              " '_specific_msg',\n",
              " '_typing',\n",
              " '_using_numpy2_behavior',\n",
              " '_utils',\n",
              " 'abs',\n",
              " 'absolute',\n",
              " 'add',\n",
              " 'add_docstring',\n",
              " 'add_newdoc',\n",
              " 'add_newdoc_ufunc',\n",
              " 'all',\n",
              " 'allclose',\n",
              " 'alltrue',\n",
              " 'amax',\n",
              " 'amin',\n",
              " 'angle',\n",
              " 'any',\n",
              " 'append',\n",
              " 'apply_along_axis',\n",
              " 'apply_over_axes',\n",
              " 'arange',\n",
              " 'arccos',\n",
              " 'arccosh',\n",
              " 'arcsin',\n",
              " 'arcsinh',\n",
              " 'arctan',\n",
              " 'arctan2',\n",
              " 'arctanh',\n",
              " 'argmax',\n",
              " 'argmin',\n",
              " 'argpartition',\n",
              " 'argsort',\n",
              " 'argwhere',\n",
              " 'around',\n",
              " 'array',\n",
              " 'array2string',\n",
              " 'array_equal',\n",
              " 'array_equiv',\n",
              " 'array_repr',\n",
              " 'array_split',\n",
              " 'array_str',\n",
              " 'asanyarray',\n",
              " 'asarray',\n",
              " 'asarray_chkfinite',\n",
              " 'ascontiguousarray',\n",
              " 'asfarray',\n",
              " 'asfortranarray',\n",
              " 'asmatrix',\n",
              " 'atleast_1d',\n",
              " 'atleast_2d',\n",
              " 'atleast_3d',\n",
              " 'average',\n",
              " 'bartlett',\n",
              " 'base_repr',\n",
              " 'binary_repr',\n",
              " 'bincount',\n",
              " 'bitwise_and',\n",
              " 'bitwise_not',\n",
              " 'bitwise_or',\n",
              " 'bitwise_xor',\n",
              " 'blackman',\n",
              " 'block',\n",
              " 'bmat',\n",
              " 'bool_',\n",
              " 'broadcast',\n",
              " 'broadcast_arrays',\n",
              " 'broadcast_shapes',\n",
              " 'broadcast_to',\n",
              " 'busday_count',\n",
              " 'busday_offset',\n",
              " 'busdaycalendar',\n",
              " 'byte',\n",
              " 'byte_bounds',\n",
              " 'bytes_',\n",
              " 'c_',\n",
              " 'can_cast',\n",
              " 'cast',\n",
              " 'cbrt',\n",
              " 'cdouble',\n",
              " 'ceil',\n",
              " 'cfloat',\n",
              " 'char',\n",
              " 'character',\n",
              " 'chararray',\n",
              " 'choose',\n",
              " 'clip',\n",
              " 'clongdouble',\n",
              " 'clongfloat',\n",
              " 'column_stack',\n",
              " 'common_type',\n",
              " 'compare_chararrays',\n",
              " 'compat',\n",
              " 'complex128',\n",
              " 'complex64',\n",
              " 'complex_',\n",
              " 'complexfloating',\n",
              " 'compress',\n",
              " 'concatenate',\n",
              " 'conj',\n",
              " 'conjugate',\n",
              " 'convolve',\n",
              " 'copy',\n",
              " 'copysign',\n",
              " 'copyto',\n",
              " 'corrcoef',\n",
              " 'correlate',\n",
              " 'cos',\n",
              " 'cosh',\n",
              " 'count_nonzero',\n",
              " 'cov',\n",
              " 'cross',\n",
              " 'csingle',\n",
              " 'ctypeslib',\n",
              " 'cumprod',\n",
              " 'cumproduct',\n",
              " 'cumsum',\n",
              " 'datetime64',\n",
              " 'datetime_as_string',\n",
              " 'datetime_data',\n",
              " 'deg2rad',\n",
              " 'degrees',\n",
              " 'delete',\n",
              " 'deprecate',\n",
              " 'deprecate_with_doc',\n",
              " 'diag',\n",
              " 'diag_indices',\n",
              " 'diag_indices_from',\n",
              " 'diagflat',\n",
              " 'diagonal',\n",
              " 'diff',\n",
              " 'digitize',\n",
              " 'disp',\n",
              " 'divide',\n",
              " 'divmod',\n",
              " 'dot',\n",
              " 'double',\n",
              " 'dsplit',\n",
              " 'dstack',\n",
              " 'dtype',\n",
              " 'dtypes',\n",
              " 'e',\n",
              " 'ediff1d',\n",
              " 'einsum',\n",
              " 'einsum_path',\n",
              " 'emath',\n",
              " 'empty',\n",
              " 'empty_like',\n",
              " 'equal',\n",
              " 'errstate',\n",
              " 'euler_gamma',\n",
              " 'exceptions',\n",
              " 'exp',\n",
              " 'exp2',\n",
              " 'expand_dims',\n",
              " 'expm1',\n",
              " 'extract',\n",
              " 'eye',\n",
              " 'fabs',\n",
              " 'fastCopyAndTranspose',\n",
              " 'fft',\n",
              " 'fill_diagonal',\n",
              " 'find_common_type',\n",
              " 'finfo',\n",
              " 'fix',\n",
              " 'flatiter',\n",
              " 'flatnonzero',\n",
              " 'flexible',\n",
              " 'flip',\n",
              " 'fliplr',\n",
              " 'flipud',\n",
              " 'float16',\n",
              " 'float32',\n",
              " 'float64',\n",
              " 'float_',\n",
              " 'float_power',\n",
              " 'floating',\n",
              " 'floor',\n",
              " 'floor_divide',\n",
              " 'fmax',\n",
              " 'fmin',\n",
              " 'fmod',\n",
              " 'format_float_positional',\n",
              " 'format_float_scientific',\n",
              " 'format_parser',\n",
              " 'frexp',\n",
              " 'from_dlpack',\n",
              " 'frombuffer',\n",
              " 'fromfile',\n",
              " 'fromfunction',\n",
              " 'fromiter',\n",
              " 'frompyfunc',\n",
              " 'fromregex',\n",
              " 'fromstring',\n",
              " 'full',\n",
              " 'full_like',\n",
              " 'gcd',\n",
              " 'generic',\n",
              " 'genfromtxt',\n",
              " 'geomspace',\n",
              " 'get_array_wrap',\n",
              " 'get_include',\n",
              " 'get_printoptions',\n",
              " 'getbufsize',\n",
              " 'geterr',\n",
              " 'geterrcall',\n",
              " 'geterrobj',\n",
              " 'gradient',\n",
              " 'greater',\n",
              " 'greater_equal',\n",
              " 'half',\n",
              " 'hamming',\n",
              " 'hanning',\n",
              " 'heaviside',\n",
              " 'histogram',\n",
              " 'histogram2d',\n",
              " 'histogram_bin_edges',\n",
              " 'histogramdd',\n",
              " 'hsplit',\n",
              " 'hstack',\n",
              " 'hypot',\n",
              " 'i0',\n",
              " 'identity',\n",
              " 'iinfo',\n",
              " 'imag',\n",
              " 'in1d',\n",
              " 'index_exp',\n",
              " 'indices',\n",
              " 'inexact',\n",
              " 'inf',\n",
              " 'info',\n",
              " 'infty',\n",
              " 'inner',\n",
              " 'insert',\n",
              " 'int16',\n",
              " 'int32',\n",
              " 'int64',\n",
              " 'int8',\n",
              " 'int_',\n",
              " 'intc',\n",
              " 'integer',\n",
              " 'interp',\n",
              " 'intersect1d',\n",
              " 'intp',\n",
              " 'invert',\n",
              " 'is_busday',\n",
              " 'isclose',\n",
              " 'iscomplex',\n",
              " 'iscomplexobj',\n",
              " 'isfinite',\n",
              " 'isfortran',\n",
              " 'isin',\n",
              " 'isinf',\n",
              " 'isnan',\n",
              " 'isnat',\n",
              " 'isneginf',\n",
              " 'isposinf',\n",
              " 'isreal',\n",
              " 'isrealobj',\n",
              " 'isscalar',\n",
              " 'issctype',\n",
              " 'issubclass_',\n",
              " 'issubdtype',\n",
              " 'issubsctype',\n",
              " 'iterable',\n",
              " 'ix_',\n",
              " 'kaiser',\n",
              " 'kron',\n",
              " 'lcm',\n",
              " 'ldexp',\n",
              " 'left_shift',\n",
              " 'less',\n",
              " 'less_equal',\n",
              " 'lexsort',\n",
              " 'lib',\n",
              " 'linalg',\n",
              " 'linspace',\n",
              " 'little_endian',\n",
              " 'load',\n",
              " 'loadtxt',\n",
              " 'log',\n",
              " 'log10',\n",
              " 'log1p',\n",
              " 'log2',\n",
              " 'logaddexp',\n",
              " 'logaddexp2',\n",
              " 'logical_and',\n",
              " 'logical_not',\n",
              " 'logical_or',\n",
              " 'logical_xor',\n",
              " 'logspace',\n",
              " 'longcomplex',\n",
              " 'longdouble',\n",
              " 'longfloat',\n",
              " 'longlong',\n",
              " 'lookfor',\n",
              " 'ma',\n",
              " 'mask_indices',\n",
              " 'mat',\n",
              " 'matmul',\n",
              " 'matrix',\n",
              " 'max',\n",
              " 'maximum',\n",
              " 'maximum_sctype',\n",
              " 'may_share_memory',\n",
              " 'mean',\n",
              " 'median',\n",
              " 'memmap',\n",
              " 'meshgrid',\n",
              " 'mgrid',\n",
              " 'min',\n",
              " 'min_scalar_type',\n",
              " 'minimum',\n",
              " 'mintypecode',\n",
              " 'mod',\n",
              " 'modf',\n",
              " 'moveaxis',\n",
              " 'msort',\n",
              " 'multiply',\n",
              " 'nan',\n",
              " 'nan_to_num',\n",
              " 'nanargmax',\n",
              " 'nanargmin',\n",
              " 'nancumprod',\n",
              " 'nancumsum',\n",
              " 'nanmax',\n",
              " 'nanmean',\n",
              " 'nanmedian',\n",
              " 'nanmin',\n",
              " 'nanpercentile',\n",
              " 'nanprod',\n",
              " 'nanquantile',\n",
              " 'nanstd',\n",
              " 'nansum',\n",
              " 'nanvar',\n",
              " 'nbytes',\n",
              " 'ndarray',\n",
              " 'ndenumerate',\n",
              " 'ndim',\n",
              " 'ndindex',\n",
              " 'nditer',\n",
              " 'negative',\n",
              " 'nested_iters',\n",
              " 'newaxis',\n",
              " 'nextafter',\n",
              " 'nonzero',\n",
              " 'not_equal',\n",
              " 'numarray',\n",
              " 'number',\n",
              " 'obj2sctype',\n",
              " 'object_',\n",
              " 'ogrid',\n",
              " 'oldnumeric',\n",
              " 'ones',\n",
              " 'ones_like',\n",
              " 'outer',\n",
              " 'packbits',\n",
              " 'pad',\n",
              " 'partition',\n",
              " 'percentile',\n",
              " 'pi',\n",
              " 'piecewise',\n",
              " 'place',\n",
              " 'poly',\n",
              " 'poly1d',\n",
              " 'polyadd',\n",
              " 'polyder',\n",
              " 'polydiv',\n",
              " 'polyfit',\n",
              " 'polyint',\n",
              " 'polymul',\n",
              " 'polynomial',\n",
              " 'polysub',\n",
              " 'polyval',\n",
              " 'positive',\n",
              " 'power',\n",
              " 'printoptions',\n",
              " 'prod',\n",
              " 'product',\n",
              " 'promote_types',\n",
              " 'ptp',\n",
              " 'put',\n",
              " 'put_along_axis',\n",
              " 'putmask',\n",
              " 'quantile',\n",
              " 'r_',\n",
              " 'rad2deg',\n",
              " 'radians',\n",
              " 'random',\n",
              " 'ravel',\n",
              " 'ravel_multi_index',\n",
              " 'real',\n",
              " 'real_if_close',\n",
              " 'rec',\n",
              " 'recarray',\n",
              " 'recfromcsv',\n",
              " 'recfromtxt',\n",
              " 'reciprocal',\n",
              " 'record',\n",
              " 'remainder',\n",
              " 'repeat',\n",
              " 'require',\n",
              " 'reshape',\n",
              " 'resize',\n",
              " 'result_type',\n",
              " 'right_shift',\n",
              " 'rint',\n",
              " 'roll',\n",
              " 'rollaxis',\n",
              " 'roots',\n",
              " 'rot90',\n",
              " 'round',\n",
              " 'round_',\n",
              " 'row_stack',\n",
              " 's_',\n",
              " 'safe_eval',\n",
              " 'save',\n",
              " 'savetxt',\n",
              " 'savez',\n",
              " 'savez_compressed',\n",
              " 'sctype2char',\n",
              " 'sctypeDict',\n",
              " 'sctypes',\n",
              " 'searchsorted',\n",
              " 'select',\n",
              " 'set_numeric_ops',\n",
              " 'set_printoptions',\n",
              " 'set_string_function',\n",
              " 'setbufsize',\n",
              " 'setdiff1d',\n",
              " 'seterr',\n",
              " 'seterrcall',\n",
              " 'seterrobj',\n",
              " 'setxor1d',\n",
              " 'shape',\n",
              " 'shares_memory',\n",
              " 'short',\n",
              " 'show_config',\n",
              " 'show_runtime',\n",
              " 'sign',\n",
              " 'signbit',\n",
              " 'signedinteger',\n",
              " 'sin',\n",
              " 'sinc',\n",
              " 'single',\n",
              " 'singlecomplex',\n",
              " 'sinh',\n",
              " 'size',\n",
              " 'sometrue',\n",
              " 'sort',\n",
              " 'sort_complex',\n",
              " 'source',\n",
              " 'spacing',\n",
              " 'split',\n",
              " 'sqrt',\n",
              " 'square',\n",
              " 'squeeze',\n",
              " 'stack',\n",
              " 'std',\n",
              " 'str_',\n",
              " 'string_',\n",
              " 'subtract',\n",
              " 'sum',\n",
              " 'swapaxes',\n",
              " 'take',\n",
              " 'take_along_axis',\n",
              " 'tan',\n",
              " 'tanh',\n",
              " 'tensordot',\n",
              " 'test',\n",
              " 'testing',\n",
              " 'tile',\n",
              " 'timedelta64',\n",
              " 'trace',\n",
              " 'tracemalloc_domain',\n",
              " 'transpose',\n",
              " 'trapz',\n",
              " 'tri',\n",
              " 'tril',\n",
              " 'tril_indices',\n",
              " 'tril_indices_from',\n",
              " 'trim_zeros',\n",
              " 'triu',\n",
              " 'triu_indices',\n",
              " 'triu_indices_from',\n",
              " 'true_divide',\n",
              " 'trunc',\n",
              " 'typecodes',\n",
              " 'typename',\n",
              " 'ubyte',\n",
              " 'ufunc',\n",
              " 'uint',\n",
              " 'uint16',\n",
              " 'uint32',\n",
              " 'uint64',\n",
              " 'uint8',\n",
              " 'uintc',\n",
              " 'uintp',\n",
              " 'ulonglong',\n",
              " 'unicode_',\n",
              " 'union1d',\n",
              " 'unique',\n",
              " 'unpackbits',\n",
              " 'unravel_index',\n",
              " 'unsignedinteger',\n",
              " 'unwrap',\n",
              " 'ushort',\n",
              " 'vander',\n",
              " 'var',\n",
              " 'vdot',\n",
              " 'vectorize',\n",
              " 'version',\n",
              " 'void',\n",
              " 'vsplit',\n",
              " 'vstack',\n",
              " 'where',\n",
              " 'who',\n",
              " 'zeros',\n",
              " 'zeros_like']"
            ]
          },
          "execution_count": 2,
          "metadata": {},
          "output_type": "execute_result"
        }
      ],
      "source": [
        "dir(np)"
      ]
    },
    {
      "cell_type": "code",
      "execution_count": 4,
      "metadata": {
        "colab": {
          "base_uri": "https://localhost:8080/"
        },
        "id": "d2MbLWoH5a_X",
        "outputId": "7f57aee5-2aae-42f8-9e37-5e484b6951e8"
      },
      "outputs": [
        {
          "data": {
            "text/plain": [
              "array([0., 0., 0., 0., 0.])"
            ]
          },
          "execution_count": 4,
          "metadata": {},
          "output_type": "execute_result"
        }
      ],
      "source": [
        "x = np.zeros(5) #it will create zeros in one dimensional array\n",
        "x"
      ]
    },
    {
      "cell_type": "code",
      "execution_count": 5,
      "metadata": {
        "id": "wyIZZm0v6V7G"
      },
      "outputs": [],
      "source": [
        "x[2]=23"
      ]
    },
    {
      "cell_type": "code",
      "execution_count": 6,
      "metadata": {
        "colab": {
          "base_uri": "https://localhost:8080/"
        },
        "id": "iWwTJqWw6XaL",
        "outputId": "b533441f-241d-444b-c2be-bf00cec111d1"
      },
      "outputs": [
        {
          "data": {
            "text/plain": [
              "array([ 0.,  0., 23.,  0.,  0.])"
            ]
          },
          "execution_count": 6,
          "metadata": {},
          "output_type": "execute_result"
        }
      ],
      "source": [
        "x"
      ]
    },
    {
      "cell_type": "code",
      "execution_count": null,
      "metadata": {
        "colab": {
          "base_uri": "https://localhost:8080/",
          "height": 141
        },
        "id": "-8nU3SB66aqe",
        "outputId": "3c773663-8c71-48ce-c9cc-58e40da82454"
      },
      "outputs": [
        {
          "ename": "ValueError",
          "evalue": "could not convert string to float: 'good'",
          "output_type": "error",
          "traceback": [
            "\u001b[0;31m---------------------------------------------------------------------------\u001b[0m",
            "\u001b[0;31mValueError\u001b[0m                                Traceback (most recent call last)",
            "\u001b[0;32m<ipython-input-7-571d18ff5a9f>\u001b[0m in \u001b[0;36m<cell line: 1>\u001b[0;34m()\u001b[0m\n\u001b[0;32m----> 1\u001b[0;31m \u001b[0mx\u001b[0m\u001b[0;34m[\u001b[0m\u001b[0;36m0\u001b[0m\u001b[0;34m]\u001b[0m\u001b[0;34m=\u001b[0m \u001b[0;34m'good'\u001b[0m\u001b[0;34m\u001b[0m\u001b[0;34m\u001b[0m\u001b[0m\n\u001b[0m",
            "\u001b[0;31mValueError\u001b[0m: could not convert string to float: 'good'"
          ]
        }
      ],
      "source": [
        "x[0]= 'good' #numpy doesn't allow multiple data type since it is an array"
      ]
    },
    {
      "cell_type": "code",
      "execution_count": null,
      "metadata": {
        "colab": {
          "base_uri": "https://localhost:8080/"
        },
        "id": "VRLlDQlr6g6S",
        "outputId": "ad46372c-8cb6-4a7b-c0ab-964aa46d51dd"
      },
      "outputs": [
        {
          "data": {
            "text/plain": [
              "75"
            ]
          },
          "execution_count": 10,
          "metadata": {},
          "output_type": "execute_result"
        }
      ],
      "source": [
        "x = [5,10,15,20,25] #adding all the elements in that array\n",
        "np.sum(x)"
      ]
    },
    {
      "cell_type": "code",
      "execution_count": null,
      "metadata": {
        "colab": {
          "base_uri": "https://localhost:8080/"
        },
        "id": "PVXk7GUm6_uO",
        "outputId": "76d47f95-d162-4694-fdee-a6176b5d0d0d"
      },
      "outputs": [
        {
          "data": {
            "text/plain": [
              "15.0"
            ]
          },
          "execution_count": 11,
          "metadata": {},
          "output_type": "execute_result"
        }
      ],
      "source": [
        "np.mean(x) #Average"
      ]
    },
    {
      "cell_type": "code",
      "execution_count": null,
      "metadata": {
        "colab": {
          "base_uri": "https://localhost:8080/"
        },
        "id": "ZOqH1suf7Ss7",
        "outputId": "10e6be4b-e200-4dbe-d9ce-b23391680e70"
      },
      "outputs": [
        {
          "data": {
            "text/plain": [
              "array([0., 0., 0., 0., 0., 0., 0., 0., 0., 0., 0., 0.])"
            ]
          },
          "execution_count": 15,
          "metadata": {},
          "output_type": "execute_result"
        }
      ],
      "source": [
        "x = np.zeros(12)\n",
        "x"
      ]
    },
    {
      "cell_type": "code",
      "execution_count": null,
      "metadata": {
        "colab": {
          "base_uri": "https://localhost:8080/"
        },
        "id": "mT6Ml-v57lbV",
        "outputId": "e1fc94c5-a8e2-40f5-bdae-794adffcc5c3"
      },
      "outputs": [
        {
          "data": {
            "text/plain": [
              "array([  5,  10,  15,  20,  25,  30,  35,  40,  45,  50,  55,  60,  65,\n",
              "        70,  75,  80,  85,  90,  95, 100])"
            ]
          },
          "execution_count": 19,
          "metadata": {},
          "output_type": "execute_result"
        }
      ],
      "source": [
        "x = np.arange(5,101,5) #from 5 to 100 with the step up of 5 it will print the numbers\n",
        "x"
      ]
    },
    {
      "cell_type": "code",
      "execution_count": null,
      "metadata": {
        "colab": {
          "base_uri": "https://localhost:8080/"
        },
        "id": "ZPImqnZ27rhY",
        "outputId": "958ef581-7b73-4d17-dd64-3901e2769a6b"
      },
      "outputs": [
        {
          "data": {
            "text/plain": [
              "array([ 1,  2,  3,  4,  5,  6,  7,  8,  9, 10, 11, 12])"
            ]
          },
          "execution_count": 20,
          "metadata": {},
          "output_type": "execute_result"
        }
      ],
      "source": [
        "x = np.arange(1,13)\n",
        "x\n"
      ]
    },
    {
      "cell_type": "code",
      "execution_count": null,
      "metadata": {
        "colab": {
          "base_uri": "https://localhost:8080/"
        },
        "id": "pcnPdU168SOH",
        "outputId": "73358c4f-50ec-465c-e273-758ee0eaa2db"
      },
      "outputs": [
        {
          "data": {
            "text/plain": [
              "array([[ 1,  2,  3,  4],\n",
              "       [ 5,  6,  7,  8],\n",
              "       [ 9, 10, 11, 12]])"
            ]
          },
          "execution_count": 21,
          "metadata": {},
          "output_type": "execute_result"
        }
      ],
      "source": [
        "y = x.reshape(3,4) #reshape the one dimensional array to two dimentsional number of elements = row X column\n",
        "y"
      ]
    },
    {
      "cell_type": "code",
      "execution_count": null,
      "metadata": {
        "colab": {
          "base_uri": "https://localhost:8080/"
        },
        "id": "KnT5q3Jp8gtF",
        "outputId": "99231a82-5305-4488-be08-452d4b4a802f"
      },
      "outputs": [
        {
          "data": {
            "text/plain": [
              "7"
            ]
          },
          "execution_count": 23,
          "metadata": {},
          "output_type": "execute_result"
        }
      ],
      "source": [
        "y[1][2] #fetching element through indexing"
      ]
    },
    {
      "cell_type": "code",
      "execution_count": null,
      "metadata": {
        "colab": {
          "base_uri": "https://localhost:8080/"
        },
        "id": "s_fsKtDd8-iT",
        "outputId": "0bd1a281-d456-47bf-f6a1-8d6179f53808"
      },
      "outputs": [
        {
          "data": {
            "text/plain": [
              "array([[ 1,  2,  3,  4],\n",
              "       [ 5,  6,  7,  8],\n",
              "       [ 9, 10, 11, 12]])"
            ]
          },
          "execution_count": 25,
          "metadata": {},
          "output_type": "execute_result"
        }
      ],
      "source": [
        "x = np.arange(1,13).reshape(3,4) #creating two dimensional array using arange and reshape\n",
        "x"
      ]
    },
    {
      "cell_type": "code",
      "execution_count": null,
      "metadata": {
        "colab": {
          "base_uri": "https://localhost:8080/"
        },
        "id": "1jpA8IfW-H5e",
        "outputId": "5c67bef0-8def-47dd-da09-0d74f137b4c7"
      },
      "outputs": [
        {
          "data": {
            "text/plain": [
              "array([[[ 1,  2,  3,  4,  5],\n",
              "        [ 6,  7,  8,  9, 10],\n",
              "        [11, 12, 13, 14, 15],\n",
              "        [16, 17, 18, 19, 20]],\n",
              "\n",
              "       [[21, 22, 23, 24, 25],\n",
              "        [26, 27, 28, 29, 30],\n",
              "        [31, 32, 33, 34, 35],\n",
              "        [36, 37, 38, 39, 40]],\n",
              "\n",
              "       [[41, 42, 43, 44, 45],\n",
              "        [46, 47, 48, 49, 50],\n",
              "        [51, 52, 53, 54, 55],\n",
              "        [56, 57, 58, 59, 60]]])"
            ]
          },
          "execution_count": 27,
          "metadata": {},
          "output_type": "execute_result"
        }
      ],
      "source": [
        "x = np.arange(1,61).reshape(3,4,5) # for creating 3 dimensional matrix\n",
        "x\n"
      ]
    },
    {
      "cell_type": "code",
      "execution_count": null,
      "metadata": {
        "colab": {
          "base_uri": "https://localhost:8080/"
        },
        "id": "ddhopQ46_awU",
        "outputId": "7f45879a-edaf-4bac-ec3a-2522ae2220c3"
      },
      "outputs": [
        {
          "data": {
            "text/plain": [
              "array([[[[  1,   2,   3,   4,   5],\n",
              "         [  6,   7,   8,   9,  10],\n",
              "         [ 11,  12,  13,  14,  15],\n",
              "         [ 16,  17,  18,  19,  20]],\n",
              "\n",
              "        [[ 21,  22,  23,  24,  25],\n",
              "         [ 26,  27,  28,  29,  30],\n",
              "         [ 31,  32,  33,  34,  35],\n",
              "         [ 36,  37,  38,  39,  40]],\n",
              "\n",
              "        [[ 41,  42,  43,  44,  45],\n",
              "         [ 46,  47,  48,  49,  50],\n",
              "         [ 51,  52,  53,  54,  55],\n",
              "         [ 56,  57,  58,  59,  60]]],\n",
              "\n",
              "\n",
              "       [[[ 61,  62,  63,  64,  65],\n",
              "         [ 66,  67,  68,  69,  70],\n",
              "         [ 71,  72,  73,  74,  75],\n",
              "         [ 76,  77,  78,  79,  80]],\n",
              "\n",
              "        [[ 81,  82,  83,  84,  85],\n",
              "         [ 86,  87,  88,  89,  90],\n",
              "         [ 91,  92,  93,  94,  95],\n",
              "         [ 96,  97,  98,  99, 100]],\n",
              "\n",
              "        [[101, 102, 103, 104, 105],\n",
              "         [106, 107, 108, 109, 110],\n",
              "         [111, 112, 113, 114, 115],\n",
              "         [116, 117, 118, 119, 120]]]])"
            ]
          },
          "execution_count": 30,
          "metadata": {},
          "output_type": "execute_result"
        }
      ],
      "source": [
        "x = np.arange(1,121).reshape(2,3,4,5)# for creating the 4 dimension\n",
        "x"
      ]
    },
    {
      "cell_type": "code",
      "execution_count": null,
      "metadata": {
        "colab": {
          "base_uri": "https://localhost:8080/"
        },
        "id": "_L80sFfi_i2G",
        "outputId": "77a67d63-2e25-4a11-86bb-5d1db4b954e0"
      },
      "outputs": [
        {
          "data": {
            "text/plain": [
              "68"
            ]
          },
          "execution_count": 35,
          "metadata": {},
          "output_type": "execute_result"
        }
      ],
      "source": [
        "x[1][0][1][2]"
      ]
    },
    {
      "cell_type": "code",
      "execution_count": null,
      "metadata": {
        "colab": {
          "base_uri": "https://localhost:8080/"
        },
        "id": "2OxBTxQJAJBS",
        "outputId": "08110c0a-6433-4f2a-fb41-ae17b49016b6"
      },
      "outputs": [
        {
          "data": {
            "text/plain": [
              "array([-358.01477292,  -78.86631834, -108.39669716, -341.50071959,\n",
              "       -226.19037012, -125.01975157])"
            ]
          },
          "execution_count": 46,
          "metadata": {},
          "output_type": "execute_result"
        }
      ],
      "source": [
        "x = np.random.random(6) * -500\n",
        "x"
      ]
    },
    {
      "cell_type": "code",
      "execution_count": null,
      "metadata": {
        "colab": {
          "base_uri": "https://localhost:8080/"
        },
        "id": "y8elOFU7Bm9h",
        "outputId": "7319a64e-b789-4fc9-f47f-95b602965d34"
      },
      "outputs": [
        {
          "data": {
            "text/plain": [
              "array([71.93167691, 55.63469514, 65.94855256, 58.51548992, 35.96343594,\n",
              "       22.38760147, 46.35301034, 54.25275084, 61.08975427, 42.49528579])"
            ]
          },
          "execution_count": 47,
          "metadata": {},
          "output_type": "execute_result"
        }
      ],
      "source": [
        "x = 20 + 60 * np.random.random(10)\n",
        "\n",
        "x\n",
        "\n"
      ]
    },
    {
      "cell_type": "code",
      "execution_count": null,
      "metadata": {
        "colab": {
          "base_uri": "https://localhost:8080/",
          "height": 141
        },
        "id": "R_plp4CtBoBx",
        "outputId": "41c825be-2a0b-466c-89c0-b9bd3430265f"
      },
      "outputs": [
        {
          "ename": "AttributeError",
          "evalue": "module 'numpy.random' has no attribute 'arange'",
          "output_type": "error",
          "traceback": [
            "\u001b[0;31m---------------------------------------------------------------------------\u001b[0m",
            "\u001b[0;31mAttributeError\u001b[0m                            Traceback (most recent call last)",
            "\u001b[0;32m<ipython-input-40-36709919dbbc>\u001b[0m in \u001b[0;36m<cell line: 1>\u001b[0;34m()\u001b[0m\n\u001b[0;32m----> 1\u001b[0;31m \u001b[0mx\u001b[0m \u001b[0;34m=\u001b[0m \u001b[0mnp\u001b[0m\u001b[0;34m.\u001b[0m\u001b[0mrandom\u001b[0m\u001b[0;34m.\u001b[0m\u001b[0marange\u001b[0m\u001b[0;34m(\u001b[0m\u001b[0;36m1\u001b[0m\u001b[0;34m,\u001b[0m\u001b[0;36m301\u001b[0m\u001b[0;34m)\u001b[0m\u001b[0;34m\u001b[0m\u001b[0;34m\u001b[0m\u001b[0m\n\u001b[0m",
            "\u001b[0;31mAttributeError\u001b[0m: module 'numpy.random' has no attribute 'arange'"
          ]
        }
      ],
      "source": [
        "x = np.random.arange(1,301)"
      ]
    },
    {
      "cell_type": "code",
      "execution_count": null,
      "metadata": {
        "colab": {
          "base_uri": "https://localhost:8080/"
        },
        "id": "LcEAd51qB-c6",
        "outputId": "9685aff9-1216-4cc1-856a-e9b32ead8eeb"
      },
      "outputs": [
        {
          "data": {
            "text/plain": [
              "9"
            ]
          },
          "execution_count": 48,
          "metadata": {},
          "output_type": "execute_result"
        }
      ],
      "source": [
        "x = np.random.randint(15) #creating random integer\n",
        "\n",
        "x # by default this will generate from 0 to 15 integer"
      ]
    },
    {
      "cell_type": "code",
      "execution_count": null,
      "metadata": {
        "id": "f8adVAmeFeKn"
      },
      "outputs": [],
      "source": [
        "x = np.random.randint(5,50, size = 10) #both ends included"
      ]
    },
    {
      "cell_type": "code",
      "execution_count": null,
      "metadata": {
        "colab": {
          "base_uri": "https://localhost:8080/"
        },
        "id": "KPDG6wXxFsga",
        "outputId": "a41790c0-1b10-48fb-9dcc-6ebe6deb0535"
      },
      "outputs": [
        {
          "data": {
            "text/plain": [
              "array([35, 37,  5, 20, 39, 48, 17, 21, 15, 42])"
            ]
          },
          "execution_count": 50,
          "metadata": {},
          "output_type": "execute_result"
        }
      ],
      "source": [
        "x"
      ]
    },
    {
      "cell_type": "code",
      "execution_count": null,
      "metadata": {
        "id": "qFTMFKPtFtSq"
      },
      "outputs": [],
      "source": [
        "x = np.random.randint(-500,500, size = 1000)"
      ]
    },
    {
      "cell_type": "code",
      "execution_count": null,
      "metadata": {
        "colab": {
          "base_uri": "https://localhost:8080/"
        },
        "id": "gjjuUCVBF5pE",
        "outputId": "6fee0ca5-903e-4586-e05b-04778b9c5f77"
      },
      "outputs": [
        {
          "data": {
            "text/plain": [
              "array([ 459,  -66, -489, -418,  -17, -429,  282,  444,   97,   98, -282,\n",
              "       -472, -417,  145, -109,   48,  422,  361,  153,   64,  -53,  109,\n",
              "         38,   56, -431,  -67,  205,  323,  226, -407, -192, -420, -332,\n",
              "       -134,  182,  359, -308,  231, -348,  267,  334,  -36,  246,  174,\n",
              "        277,  -26,   83,  292,   52, -174,  323,  402,  474,  464,  238,\n",
              "        123,  374,  207,  438, -454, -310,   85, -421, -147,  145, -267,\n",
              "       -312, -472, -460, -455, -311,  456,  481, -364,  272, -324, -497,\n",
              "        194, -238, -371, -407,  484, -290,  393,  308,  389, -334,  188,\n",
              "        230, -300,  130, -229, -365, -240,  157,  322,  336, -356,  -83,\n",
              "        -85,   12,  367, -167, -127, -144, -464, -316,   89,  236,  456,\n",
              "       -259,  147,  126,  450, -303,  266, -147,   16, -461, -241, -494,\n",
              "        355, -429,  104,  458,   15,  399,   80,   55,  -36, -117, -217,\n",
              "          7, -382, -404, -420, -157, -292,  169, -265,  283, -224, -313,\n",
              "        226,  352,  -54, -287,  -23, -380,  -76,  335,  266, -418,  -61,\n",
              "        233,  478,  313,  252, -149,  339, -123,  322, -179, -311,  101,\n",
              "       -194,  106,  155, -295,  335,  484,  358,   25,  193, -467, -223,\n",
              "         86, -136, -440,  -61,  -44,   40, -417,  441,  495,  -44, -357,\n",
              "        321, -365, -465, -140,  300, -289,  409,  -39, -174, -270,  329,\n",
              "        312,  -91, -213,  193, -303, -322, -318,  173, -184,  228, -231,\n",
              "        -92,  145,    4,   37,  -52, -173,  124,  398, -216, -179,  105,\n",
              "         52,  119,  222,   49, -316,  193, -116,  128,  266,   87,  188,\n",
              "       -223,  -58, -458,  153,  254, -108,  386, -485,  457,  437,  -27,\n",
              "        103,  349,  371,  -73, -115,  135, -305,  122, -358, -129,  261,\n",
              "       -158, -177, -337,  326,  209, -176, -476,  186, -460, -153,  243,\n",
              "       -474,  107, -482, -394,  380,    2,  277, -142,  429, -143,  -86,\n",
              "       -107, -374, -461, -472,  131,   54,  188, -477,  450,  106,  338,\n",
              "       -104,  490,  165, -105, -154, -174,  165,  147,  -13,  -19,  385,\n",
              "       -375, -147, -223, -304, -272, -219,  299,    0,  -92,  326,  345,\n",
              "         27, -149, -500,  213,  364,   58,  169, -158,   14,  463, -339,\n",
              "       -246, -398, -365,  -32, -481,  187,  438,  112,  295,   36, -128,\n",
              "       -434, -280, -303, -212, -104, -126, -422, -371,  352, -341,   59,\n",
              "       -240,  313,   47, -126,  320,  -79, -157,  291,  440,   98,  -20,\n",
              "         20,  122, -219,  276,  432, -161,  174,  -77, -155, -412,  153,\n",
              "       -286, -325,  186,  469,  347, -364,  238, -323, -455,  372, -320,\n",
              "        330, -289,  -41, -278,  -67,  178, -113,  179, -147, -415,  268,\n",
              "        382, -498,  345,  179, -126, -351,  490, -191,  304,  -29,   26,\n",
              "        103,  208,  361,  462,  -35,  243,  244, -399, -203,  485,  368,\n",
              "       -398,  171, -477, -417,  379,   59,  -26, -125,  459,  -87, -374,\n",
              "       -239,  307,   20,  374,   90,  193, -174,  460,  190, -479, -461,\n",
              "       -298, -415, -490, -106,  435,  -55,  363, -443,  368,  248, -415,\n",
              "        102,  456, -330,  349,  349, -224, -128,  -85,  317,  316,  214,\n",
              "        -89, -370, -500,  483,  420, -315,   48,   22,  -34,  198, -442,\n",
              "       -452, -407,  298,   64,  429,  337, -389, -484,   47, -173,   63,\n",
              "        417,  207, -481,  388, -492, -485,  293, -214, -313, -471, -446,\n",
              "        210,  292,  163, -106, -398, -287, -260, -302, -256, -466,  498,\n",
              "        183,  450,  412,  259,  336,  105,  -75,  -72,  -95,  -72, -179,\n",
              "       -171, -374, -265,  448,  359, -480,  -62, -163, -194,  -67, -479,\n",
              "       -228, -110, -103,  385,  -67, -482,  127,  380,   58,  -72, -392,\n",
              "       -279, -331, -422, -360,  138,  321,  271, -384,  153, -142, -476,\n",
              "        284,  281,   79,    6, -415,   -2,  350,  357,  471, -497, -268,\n",
              "        244,  275, -191,   54, -393,  -75, -256,   87, -401, -496,  361,\n",
              "        127, -293,   96,  384,  481, -337,  325, -260, -335,  -19,  197,\n",
              "       -392,  311,   88, -230, -102, -199, -475, -184,  118, -118,  259,\n",
              "        381,  436,   14, -337,  391,    7,   34, -226,   19,  400, -188,\n",
              "       -375,  486,  -25, -335,  427,  -19,  367,  136,   30,  323,  112,\n",
              "       -156,  189,   94, -425,  423,  359,   71, -151,   78, -184,  418,\n",
              "       -252,   17,  271,  309,  252,  153, -368, -253,  289,  367, -374,\n",
              "       -162,   45, -350, -169,  118,  138,  431,  459, -364, -247, -437,\n",
              "       -332,  194, -263, -126,   24,   21,  198, -476,  182,   85,  441,\n",
              "       -350, -473,  194,  -90, -351,    6,  441, -303, -352, -181, -111,\n",
              "       -212, -354, -352, -337,  114,  -26,  233,  482, -444,  -19,  214,\n",
              "         41, -366, -440, -154, -144,   65, -386,  266, -286, -473, -240,\n",
              "        173,  363, -197, -415, -146,  115, -401, -285,  357,  401,   24,\n",
              "        481,  -19, -403, -375, -496,  326, -165,   85,  423, -305,  129,\n",
              "        323, -412, -323,  432,  119,  298, -126,  -10,  436,  455,  256,\n",
              "        -88, -262,  468,  243,  181,  368,  202,  -67,  124,   86,  290,\n",
              "        169, -321,  468,  462,  478,  -66, -388,  100, -173, -495, -412,\n",
              "       -414,  124,  112,  159,  235, -335, -331, -383, -283,  -71,  445,\n",
              "       -143, -356, -442,  371, -189, -377, -216, -360, -144,  324,  391,\n",
              "         58,  260,   26,  202,  250,  310,  496,  455,  360, -363,  315,\n",
              "        -13, -180,  122,  350, -109,  404, -388,  361,  264, -252,  430,\n",
              "       -279,   60, -353,    0, -471, -364,  228,  396,  214,  489, -368,\n",
              "       -144, -443, -260,  -62,  140,  182,   47,   57,  237,  153,  460,\n",
              "       -102, -150,  296, -382,   31,  154,  -44, -498,  384, -174,   84,\n",
              "        -27,  -99, -126,  269,  386,  286, -418, -446,  -11, -344,  185,\n",
              "        427,  117,  313,   67, -219,  198,   34, -304, -274,  380, -351,\n",
              "        -86, -420,   61, -409,  316, -153,   16,  262,  265, -404,   35,\n",
              "        383,  291,  320,   -9,  108, -190,  191,  353,  213, -335,  -88,\n",
              "        411,  409,  -98,  -10,  203,  -55, -334,  243, -344, -443,   95,\n",
              "       -193, -260, -171, -131, -194, -262, -381, -140,   32,  217,  -67,\n",
              "       -131, -108,  105,  237, -413,  -11,  389, -204, -278, -295,  -40,\n",
              "       -208, -276,  -73, -257,   91, -115,  344, -187, -313, -141, -426,\n",
              "        186, -328,  493, -157,  207,  345, -295, -461, -240,  148,  253,\n",
              "       -197,  304,  364,  320,  407, -329,  155, -221, -167,  -83, -224,\n",
              "       -223,  180,  105,  188, -297,   -7,  327,  299, -478,  361,   29,\n",
              "        231,  455,   60,  177,  242, -219, -439,  469, -447, -182, -402,\n",
              "         94,  257, -389,  -86,  304,   46, -156, -113,  -96,    8,  444,\n",
              "         84, -304, -371,  -76, -116,  372, -208,  433,   75,  311, -294,\n",
              "       -393,   61,  117,  461, -332, -166,  177,  480,  347,  196,    0,\n",
              "        137,  -78,   44,    6,  258, -217, -207,  230,  274,  241,  398,\n",
              "        304,  157,   79, -260,  387,  209, -428,  109,  -59, -459])"
            ]
          },
          "execution_count": 52,
          "metadata": {},
          "output_type": "execute_result"
        }
      ],
      "source": [
        "x"
      ]
    },
    {
      "cell_type": "code",
      "execution_count": null,
      "metadata": {
        "colab": {
          "base_uri": "https://localhost:8080/"
        },
        "id": "esqCvbS4F65s",
        "outputId": "6ec3509e-ff3f-4d51-b8e1-11140261d7e2"
      },
      "outputs": [
        {
          "data": {
            "text/plain": [
              "array(['josh', 'hari', 'saravana', 'saravana', 'jansi', 'hari', 'hari',\n",
              "       'tamil', 'jansi', 'hari', 'hari', 'saravana', 'hari', 'hari',\n",
              "       'tamil', 'hari', 'jansi', 'hari', 'josh', 'jansi', 'jansi',\n",
              "       'tamil', 'saravana', 'hari', 'tamil', 'hari', 'tamil', 'tamil',\n",
              "       'tamil', 'josh', 'jansi', 'saravana', 'tamil', 'jansi', 'saravana',\n",
              "       'saravana', 'josh', 'josh', 'jansi', 'saravana', 'saravana',\n",
              "       'saravana', 'hari', 'jansi', 'jansi', 'hari', 'tamil', 'josh',\n",
              "       'josh', 'josh', 'saravana', 'josh', 'hari', 'hari', 'tamil',\n",
              "       'saravana', 'jansi', 'hari', 'jansi', 'josh', 'jansi', 'jansi',\n",
              "       'tamil', 'josh', 'josh', 'jansi', 'josh', 'saravana', 'hari',\n",
              "       'tamil', 'tamil', 'tamil', 'saravana', 'hari', 'tamil', 'jansi',\n",
              "       'jansi', 'jansi', 'saravana', 'jansi', 'jansi', 'hari', 'jansi',\n",
              "       'hari', 'hari', 'jansi', 'jansi', 'jansi', 'tamil', 'jansi',\n",
              "       'jansi', 'jansi', 'josh', 'josh', 'jansi', 'josh', 'saravana',\n",
              "       'hari', 'hari', 'josh', 'jansi', 'jansi', 'tamil', 'saravana',\n",
              "       'josh', 'josh', 'saravana', 'saravana', 'hari', 'hari', 'josh',\n",
              "       'tamil', 'saravana', 'jansi', 'saravana', 'jansi', 'josh', 'jansi',\n",
              "       'hari', 'jansi', 'saravana', 'tamil', 'josh', 'tamil', 'josh',\n",
              "       'josh', 'saravana', 'tamil', 'josh', 'josh', 'jansi', 'hari',\n",
              "       'saravana', 'josh', 'tamil', 'jansi', 'tamil', 'jansi', 'hari',\n",
              "       'saravana', 'josh', 'josh', 'josh', 'hari', 'saravana', 'jansi',\n",
              "       'hari', 'josh', 'josh', 'josh', 'hari', 'hari', 'tamil', 'josh',\n",
              "       'jansi', 'saravana', 'jansi', 'hari', 'saravana', 'jansi', 'josh',\n",
              "       'hari', 'jansi', 'saravana', 'josh', 'hari', 'josh', 'saravana',\n",
              "       'josh', 'jansi', 'hari', 'jansi', 'josh', 'hari', 'hari', 'tamil',\n",
              "       'tamil', 'hari', 'jansi', 'jansi', 'saravana', 'josh', 'josh',\n",
              "       'saravana', 'saravana', 'hari', 'tamil', 'saravana', 'saravana',\n",
              "       'saravana', 'josh', 'jansi', 'saravana', 'jansi', 'saravana',\n",
              "       'saravana', 'josh', 'tamil', 'saravana', 'jansi', 'hari', 'jansi',\n",
              "       'saravana', 'josh', 'jansi', 'hari', 'hari', 'tamil', 'josh',\n",
              "       'jansi', 'saravana', 'josh', 'josh', 'josh', 'josh', 'jansi',\n",
              "       'jansi', 'tamil', 'josh', 'hari', 'tamil', 'tamil', 'saravana',\n",
              "       'jansi', 'saravana', 'hari', 'hari', 'jansi', 'hari', 'josh',\n",
              "       'josh', 'hari', 'saravana', 'hari', 'saravana', 'saravana',\n",
              "       'tamil', 'hari', 'saravana', 'jansi', 'saravana', 'tamil',\n",
              "       'saravana', 'saravana', 'josh', 'josh', 'josh', 'saravana',\n",
              "       'jansi', 'saravana', 'tamil', 'saravana', 'josh', 'jansi',\n",
              "       'saravana', 'josh', 'hari', 'jansi', 'jansi', 'tamil', 'jansi',\n",
              "       'tamil', 'tamil', 'hari', 'hari', 'saravana', 'tamil', 'josh',\n",
              "       'jansi', 'tamil', 'tamil', 'jansi', 'josh', 'jansi', 'josh',\n",
              "       'tamil', 'josh', 'josh', 'hari', 'jansi', 'josh', 'tamil', 'josh',\n",
              "       'josh', 'saravana', 'josh', 'tamil', 'tamil', 'josh', 'josh',\n",
              "       'josh', 'jansi', 'josh', 'jansi', 'tamil', 'josh', 'josh', 'hari',\n",
              "       'tamil', 'josh', 'josh', 'jansi', 'tamil', 'saravana', 'saravana',\n",
              "       'josh', 'josh', 'josh', 'jansi', 'tamil', 'hari', 'jansi', 'tamil',\n",
              "       'jansi', 'tamil', 'tamil', 'tamil', 'jansi', 'jansi', 'josh',\n",
              "       'josh', 'jansi', 'hari', 'josh', 'saravana', 'jansi', 'tamil',\n",
              "       'jansi', 'josh', 'jansi', 'tamil', 'tamil', 'josh', 'hari',\n",
              "       'saravana', 'josh', 'josh', 'saravana', 'josh', 'saravana',\n",
              "       'saravana', 'saravana', 'saravana', 'hari', 'josh', 'josh',\n",
              "       'jansi', 'jansi', 'saravana', 'jansi', 'jansi', 'saravana',\n",
              "       'jansi', 'tamil', 'saravana', 'saravana', 'jansi', 'saravana',\n",
              "       'hari', 'josh', 'saravana', 'tamil', 'jansi', 'saravana', 'hari',\n",
              "       'hari', 'josh', 'saravana', 'josh', 'jansi', 'josh', 'josh',\n",
              "       'tamil', 'josh', 'saravana', 'tamil', 'josh', 'josh', 'jansi',\n",
              "       'josh', 'josh', 'saravana', 'tamil', 'jansi', 'saravana', 'josh',\n",
              "       'saravana', 'hari', 'saravana', 'tamil', 'tamil', 'tamil', 'hari',\n",
              "       'jansi', 'hari', 'hari', 'tamil', 'jansi', 'hari', 'saravana',\n",
              "       'hari', 'hari', 'jansi', 'hari', 'saravana', 'saravana', 'tamil',\n",
              "       'josh', 'saravana', 'hari', 'josh', 'josh', 'josh', 'saravana',\n",
              "       'hari', 'josh', 'tamil', 'josh', 'saravana', 'jansi', 'saravana',\n",
              "       'hari', 'jansi', 'jansi', 'saravana', 'jansi', 'jansi', 'tamil',\n",
              "       'josh', 'saravana', 'saravana', 'hari', 'jansi', 'josh', 'josh',\n",
              "       'saravana', 'tamil', 'hari', 'saravana', 'jansi', 'jansi', 'tamil',\n",
              "       'josh', 'saravana', 'jansi', 'josh', 'jansi', 'hari', 'saravana',\n",
              "       'hari', 'josh', 'hari', 'tamil', 'josh', 'tamil', 'saravana',\n",
              "       'hari', 'jansi', 'tamil', 'tamil', 'hari', 'josh', 'jansi', 'josh',\n",
              "       'saravana', 'tamil', 'saravana', 'josh', 'hari', 'hari', 'hari',\n",
              "       'hari', 'jansi', 'hari', 'tamil', 'josh', 'hari', 'josh', 'tamil',\n",
              "       'jansi', 'tamil', 'hari', 'hari', 'saravana', 'jansi', 'hari',\n",
              "       'tamil', 'tamil', 'jansi', 'jansi', 'josh', 'jansi', 'josh',\n",
              "       'tamil', 'saravana', 'saravana', 'saravana', 'saravana',\n",
              "       'saravana', 'jansi', 'saravana', 'jansi', 'jansi', 'hari', 'jansi',\n",
              "       'jansi', 'tamil', 'hari', 'saravana', 'jansi', 'saravana', 'tamil',\n",
              "       'hari', 'hari', 'saravana', 'tamil', 'josh', 'tamil', 'tamil',\n",
              "       'jansi', 'josh', 'saravana', 'tamil', 'hari', 'hari', 'tamil',\n",
              "       'jansi', 'tamil', 'saravana', 'josh', 'hari', 'jansi', 'josh',\n",
              "       'josh', 'jansi', 'josh', 'josh', 'saravana', 'josh', 'saravana',\n",
              "       'jansi', 'jansi'], dtype='<U8')"
            ]
          },
          "execution_count": 53,
          "metadata": {},
          "output_type": "execute_result"
        }
      ],
      "source": [
        "# Data Distribution\n",
        "\n",
        "x=np.random.choice([\"josh\",\"jansi\",\"saravana\",\"tamil\",\"hari\"],size=542)\n",
        "x"
      ]
    },
    {
      "cell_type": "code",
      "execution_count": null,
      "metadata": {
        "colab": {
          "base_uri": "https://localhost:8080/"
        },
        "id": "AqgdoLhuLaAz",
        "outputId": "610e2ea1-9685-4e6a-9fa3-f41c22921441"
      },
      "outputs": [
        {
          "data": {
            "text/plain": [
              "array(['tamil', 'josh', 'josh', 'josh', 'tamil', 'josh', 'saravana',\n",
              "       'josh', 'josh', 'hari', 'josh', 'josh', 'josh', 'josh', 'josh',\n",
              "       'josh', 'josh', 'josh', 'josh', 'jansi', 'hari', 'saravana',\n",
              "       'josh', 'josh', 'hari', 'hari', 'josh', 'josh', 'saravana', 'josh',\n",
              "       'josh', 'saravana', 'hari', 'hari', 'josh', 'josh', 'josh',\n",
              "       'tamil', 'josh', 'hari', 'saravana', 'josh', 'josh', 'josh',\n",
              "       'josh', 'josh', 'jansi', 'saravana', 'hari', 'saravana',\n",
              "       'saravana', 'josh', 'hari', 'josh', 'saravana', 'josh', 'josh',\n",
              "       'josh', 'josh', 'jansi', 'tamil', 'saravana', 'jansi', 'saravana',\n",
              "       'saravana', 'josh', 'saravana', 'josh', 'josh', 'josh', 'josh',\n",
              "       'hari', 'josh', 'saravana', 'josh', 'josh', 'josh', 'josh',\n",
              "       'jansi', 'jansi', 'jansi', 'josh', 'josh', 'josh', 'josh',\n",
              "       'saravana', 'josh', 'tamil', 'josh', 'saravana', 'josh', 'jansi',\n",
              "       'hari', 'josh', 'saravana', 'saravana', 'josh', 'josh', 'saravana',\n",
              "       'saravana'], dtype='<U8')"
            ]
          },
          "execution_count": 54,
          "metadata": {},
          "output_type": "execute_result"
        }
      ],
      "source": [
        "x=np.random.choice([\"josh\",\"jansi\",\"saravana\",\"tamil\",\"hari\"],size=100,p=[0.5,0.05,0.2,0.1,0.15]) #probabilities should sum to 1\n",
        "x"
      ]
    },
    {
      "cell_type": "code",
      "execution_count": null,
      "metadata": {
        "colab": {
          "base_uri": "https://localhost:8080/"
        },
        "id": "Z-cKsijxLdwc",
        "outputId": "ee438021-09bb-4789-8784-c6fa590a75a7"
      },
      "outputs": [
        {
          "data": {
            "text/plain": [
              "array(['josh', 'tamil', 'hari', ..., 'saravana', 'josh', 'josh'],\n",
              "      dtype='<U8')"
            ]
          },
          "execution_count": 55,
          "metadata": {},
          "output_type": "execute_result"
        }
      ],
      "source": [
        "x=np.random.choice([\"josh\",\"jansi\",\"saravana\",\"tamil\",\"hari\"],size=7000,p=[0.5,0.05,0.2,0.1,0.15])\n",
        "x"
      ]
    },
    {
      "cell_type": "code",
      "execution_count": null,
      "metadata": {
        "id": "CfW6afXDLgjh"
      },
      "outputs": [],
      "source": [
        "x=np.arange(1,500)"
      ]
    },
    {
      "cell_type": "code",
      "execution_count": null,
      "metadata": {
        "colab": {
          "base_uri": "https://localhost:8080/"
        },
        "id": "zi6g9qm2NOQU",
        "outputId": "dddb964b-fa1b-4a5c-8a7c-632e120ff467"
      },
      "outputs": [
        {
          "data": {
            "text/plain": [
              "array([  1,   2,   3,   4,   5,   6,   7,   8,   9,  10,  11,  12,  13,\n",
              "        14,  15,  16,  17,  18,  19,  20,  21,  22,  23,  24,  25,  26,\n",
              "        27,  28,  29,  30,  31,  32,  33,  34,  35,  36,  37,  38,  39,\n",
              "        40,  41,  42,  43,  44,  45,  46,  47,  48,  49,  50,  51,  52,\n",
              "        53,  54,  55,  56,  57,  58,  59,  60,  61,  62,  63,  64,  65,\n",
              "        66,  67,  68,  69,  70,  71,  72,  73,  74,  75,  76,  77,  78,\n",
              "        79,  80,  81,  82,  83,  84,  85,  86,  87,  88,  89,  90,  91,\n",
              "        92,  93,  94,  95,  96,  97,  98,  99, 100, 101, 102, 103, 104,\n",
              "       105, 106, 107, 108, 109, 110, 111, 112, 113, 114, 115, 116, 117,\n",
              "       118, 119, 120, 121, 122, 123, 124, 125, 126, 127, 128, 129, 130,\n",
              "       131, 132, 133, 134, 135, 136, 137, 138, 139, 140, 141, 142, 143,\n",
              "       144, 145, 146, 147, 148, 149, 150, 151, 152, 153, 154, 155, 156,\n",
              "       157, 158, 159, 160, 161, 162, 163, 164, 165, 166, 167, 168, 169,\n",
              "       170, 171, 172, 173, 174, 175, 176, 177, 178, 179, 180, 181, 182,\n",
              "       183, 184, 185, 186, 187, 188, 189, 190, 191, 192, 193, 194, 195,\n",
              "       196, 197, 198, 199, 200, 201, 202, 203, 204, 205, 206, 207, 208,\n",
              "       209, 210, 211, 212, 213, 214, 215, 216, 217, 218, 219, 220, 221,\n",
              "       222, 223, 224, 225, 226, 227, 228, 229, 230, 231, 232, 233, 234,\n",
              "       235, 236, 237, 238, 239, 240, 241, 242, 243, 244, 245, 246, 247,\n",
              "       248, 249, 250, 251, 252, 253, 254, 255, 256, 257, 258, 259, 260,\n",
              "       261, 262, 263, 264, 265, 266, 267, 268, 269, 270, 271, 272, 273,\n",
              "       274, 275, 276, 277, 278, 279, 280, 281, 282, 283, 284, 285, 286,\n",
              "       287, 288, 289, 290, 291, 292, 293, 294, 295, 296, 297, 298, 299,\n",
              "       300, 301, 302, 303, 304, 305, 306, 307, 308, 309, 310, 311, 312,\n",
              "       313, 314, 315, 316, 317, 318, 319, 320, 321, 322, 323, 324, 325,\n",
              "       326, 327, 328, 329, 330, 331, 332, 333, 334, 335, 336, 337, 338,\n",
              "       339, 340, 341, 342, 343, 344, 345, 346, 347, 348, 349, 350, 351,\n",
              "       352, 353, 354, 355, 356, 357, 358, 359, 360, 361, 362, 363, 364,\n",
              "       365, 366, 367, 368, 369, 370, 371, 372, 373, 374, 375, 376, 377,\n",
              "       378, 379, 380, 381, 382, 383, 384, 385, 386, 387, 388, 389, 390,\n",
              "       391, 392, 393, 394, 395, 396, 397, 398, 399, 400, 401, 402, 403,\n",
              "       404, 405, 406, 407, 408, 409, 410, 411, 412, 413, 414, 415, 416,\n",
              "       417, 418, 419, 420, 421, 422, 423, 424, 425, 426, 427, 428, 429,\n",
              "       430, 431, 432, 433, 434, 435, 436, 437, 438, 439, 440, 441, 442,\n",
              "       443, 444, 445, 446, 447, 448, 449, 450, 451, 452, 453, 454, 455,\n",
              "       456, 457, 458, 459, 460, 461, 462, 463, 464, 465, 466, 467, 468,\n",
              "       469, 470, 471, 472, 473, 474, 475, 476, 477, 478, 479, 480, 481,\n",
              "       482, 483, 484, 485, 486, 487, 488, 489, 490, 491, 492, 493, 494,\n",
              "       495, 496, 497, 498, 499])"
            ]
          },
          "execution_count": 57,
          "metadata": {},
          "output_type": "execute_result"
        }
      ],
      "source": [
        "x"
      ]
    },
    {
      "cell_type": "code",
      "execution_count": null,
      "metadata": {
        "colab": {
          "base_uri": "https://localhost:8080/"
        },
        "id": "cTaAj61UNOng",
        "outputId": "70c0fb52-2ec7-4338-e87c-4d4714721986"
      },
      "outputs": [
        {
          "data": {
            "text/plain": [
              "[array([  1,   2,   3,   4,   5,   6,   7,   8,   9,  10,  11,  12,  13,\n",
              "         14,  15,  16,  17,  18,  19,  20,  21,  22,  23,  24,  25,  26,\n",
              "         27,  28,  29,  30,  31,  32,  33,  34,  35,  36,  37,  38,  39,\n",
              "         40,  41,  42,  43,  44,  45,  46,  47,  48,  49,  50,  51,  52,\n",
              "         53,  54,  55,  56,  57,  58,  59,  60,  61,  62,  63,  64,  65,\n",
              "         66,  67,  68,  69,  70,  71,  72,  73,  74,  75,  76,  77,  78,\n",
              "         79,  80,  81,  82,  83,  84,  85,  86,  87,  88,  89,  90,  91,\n",
              "         92,  93,  94,  95,  96,  97,  98,  99, 100]),\n",
              " array([101, 102, 103, 104, 105, 106, 107, 108, 109, 110, 111, 112, 113,\n",
              "        114, 115, 116, 117, 118, 119, 120, 121, 122, 123, 124, 125, 126,\n",
              "        127, 128, 129, 130, 131, 132, 133, 134, 135, 136, 137, 138, 139,\n",
              "        140, 141, 142, 143, 144, 145, 146, 147, 148, 149, 150, 151, 152,\n",
              "        153, 154, 155, 156, 157, 158, 159, 160, 161, 162, 163, 164, 165,\n",
              "        166, 167, 168, 169, 170, 171, 172, 173, 174, 175, 176, 177, 178,\n",
              "        179, 180, 181, 182, 183, 184, 185, 186, 187, 188, 189, 190, 191,\n",
              "        192, 193, 194, 195, 196, 197, 198, 199, 200]),\n",
              " array([201, 202, 203, 204, 205, 206, 207, 208, 209, 210, 211, 212, 213,\n",
              "        214, 215, 216, 217, 218, 219, 220, 221, 222, 223, 224, 225, 226,\n",
              "        227, 228, 229, 230, 231, 232, 233, 234, 235, 236, 237, 238, 239,\n",
              "        240, 241, 242, 243, 244, 245, 246, 247, 248, 249, 250, 251, 252,\n",
              "        253, 254, 255, 256, 257, 258, 259, 260, 261, 262, 263, 264, 265,\n",
              "        266, 267, 268, 269, 270, 271, 272, 273, 274, 275, 276, 277, 278,\n",
              "        279, 280, 281, 282, 283, 284, 285, 286, 287, 288, 289, 290, 291,\n",
              "        292, 293, 294, 295, 296, 297, 298, 299, 300]),\n",
              " array([301, 302, 303, 304, 305, 306, 307, 308, 309, 310, 311, 312, 313,\n",
              "        314, 315, 316, 317, 318, 319, 320, 321, 322, 323, 324, 325, 326,\n",
              "        327, 328, 329, 330, 331, 332, 333, 334, 335, 336, 337, 338, 339,\n",
              "        340, 341, 342, 343, 344, 345, 346, 347, 348, 349, 350, 351, 352,\n",
              "        353, 354, 355, 356, 357, 358, 359, 360, 361, 362, 363, 364, 365,\n",
              "        366, 367, 368, 369, 370, 371, 372, 373, 374, 375, 376, 377, 378,\n",
              "        379, 380, 381, 382, 383, 384, 385, 386, 387, 388, 389, 390, 391,\n",
              "        392, 393, 394, 395, 396, 397, 398, 399, 400]),\n",
              " array([401, 402, 403, 404, 405, 406, 407, 408, 409, 410, 411, 412, 413,\n",
              "        414, 415, 416, 417, 418, 419, 420, 421, 422, 423, 424, 425, 426,\n",
              "        427, 428, 429, 430, 431, 432, 433, 434, 435, 436, 437, 438, 439,\n",
              "        440, 441, 442, 443, 444, 445, 446, 447, 448, 449, 450, 451, 452,\n",
              "        453, 454, 455, 456, 457, 458, 459, 460, 461, 462, 463, 464, 465,\n",
              "        466, 467, 468, 469, 470, 471, 472, 473, 474, 475, 476, 477, 478,\n",
              "        479, 480, 481, 482, 483, 484, 485, 486, 487, 488, 489, 490, 491,\n",
              "        492, 493, 494, 495, 496, 497, 498, 499])]"
            ]
          },
          "execution_count": 58,
          "metadata": {},
          "output_type": "execute_result"
        }
      ],
      "source": [
        "y = np.array_split(x,5)\n",
        "y"
      ]
    },
    {
      "cell_type": "code",
      "execution_count": null,
      "metadata": {
        "colab": {
          "base_uri": "https://localhost:8080/"
        },
        "id": "SNxnKurtNWDC",
        "outputId": "687c8dc7-515c-4a30-edf5-0e0c30a8b741"
      },
      "outputs": [
        {
          "data": {
            "text/plain": [
              "array([ 2.        ,  5.66666667,  9.33333333, 13.        , 16.66666667,\n",
              "       20.33333333, 24.        , 27.66666667, 31.33333333, 35.        ])"
            ]
          },
          "execution_count": 59,
          "metadata": {},
          "output_type": "execute_result"
        }
      ],
      "source": [
        "x = np.linspace(2,35,10)\n",
        "x"
      ]
    },
    {
      "cell_type": "code",
      "execution_count": null,
      "metadata": {
        "id": "kHlWF5mZN_il"
      },
      "outputs": [],
      "source": [
        "auth = {\n",
        "  \"apikey\": \"795759a5-f664-47be-aaf6-851c6b6ddcff\",\n",
        "  \"id\": \"b4438580-d28e-457c-886b-3c2419ab5de2\"\n",
        "}"
      ]
    },
    {
      "cell_type": "code",
      "execution_count": null,
      "metadata": {
        "id": "DxgiU9MDRQU8"
      },
      "outputs": [],
      "source": [
        "url = \"https://api.cricapi.com/v1/match_scorecard\""
      ]
    },
    {
      "cell_type": "code",
      "execution_count": null,
      "metadata": {
        "id": "t_IfY81TRdrR"
      },
      "outputs": [],
      "source": [
        "import requests"
      ]
    },
    {
      "cell_type": "code",
      "execution_count": null,
      "metadata": {
        "colab": {
          "base_uri": "https://localhost:8080/"
        },
        "id": "0XBdEHujRlOe",
        "outputId": "33ada9b2-8500-41bc-d8c4-e2c4407b22d2"
      },
      "outputs": [
        {
          "data": {
            "text/plain": [
              "dict_keys(['apikey', 'data', 'status', 'info'])"
            ]
          },
          "execution_count": 69,
          "metadata": {},
          "output_type": "execute_result"
        }
      ],
      "source": [
        "result = requests.get(url,params=auth)\n",
        "result.json().keys()"
      ]
    },
    {
      "cell_type": "code",
      "execution_count": null,
      "metadata": {
        "id": "X92fN7biRrVz"
      },
      "outputs": [],
      "source": [
        "score_card = result.json()['data']['scorecard']"
      ]
    },
    {
      "cell_type": "code",
      "execution_count": null,
      "metadata": {
        "colab": {
          "base_uri": "https://localhost:8080/"
        },
        "id": "UBB80f3lSSs4",
        "outputId": "bb468f19-e61d-4b88-c076-3c6ab5b06622"
      },
      "outputs": [
        {
          "data": {
            "text/plain": [
              "{'batting': [{'batsman': {'id': 'a254feed-0d7c-4f04-a2ab-7bf9ceef156b',\n",
              "    'name': 'Yashasvi Jaiswal'},\n",
              "   'dismissal': 'catch',\n",
              "   'bowler': {'id': '3a93bfb5-1fd1-4342-99f1-397161de9d10',\n",
              "    'name': 'Sikandar Raza'},\n",
              "   'catcher': {'id': '55e1ded0-dbd4-48d2-9df8-f7b92fcd0fef',\n",
              "    'name': 'Brian Bennett '},\n",
              "   'dismissal-text': 'c brian bennett b raza',\n",
              "   'r': 36,\n",
              "   'b': 27,\n",
              "   '4s': 4,\n",
              "   '6s': 2,\n",
              "   'sr': 133.33,\n",
              "   '': 0},\n",
              "  {'batsman': {'id': '7263e990-a9e9-4829-8adf-760d18d1315c',\n",
              "    'name': 'Shubman Gill'},\n",
              "   'dismissal': 'catch',\n",
              "   'bowler': {'id': '50e38c9d-bf39-44b8-b5e6-0c9f36b8cbdf',\n",
              "    'name': 'Blessing Muzarabani'},\n",
              "   'catcher': {'id': '3a93bfb5-1fd1-4342-99f1-397161de9d10',\n",
              "    'name': 'Sikandar Raza'},\n",
              "   'dismissal-text': 'c raza b muzarabani',\n",
              "   'r': 66,\n",
              "   'b': 49,\n",
              "   '4s': 7,\n",
              "   '6s': 3,\n",
              "   'sr': 134.69,\n",
              "   '': 0},\n",
              "  {'batsman': {'id': '83fe6ab6-d63c-420e-9416-a93d59a9a964',\n",
              "    'name': 'Abhishek Sharma'},\n",
              "   'dismissal': 'catch',\n",
              "   'bowler': {'id': '3a93bfb5-1fd1-4342-99f1-397161de9d10',\n",
              "    'name': 'Sikandar Raza'},\n",
              "   'catcher': {'id': 'fc4102d8-b2f6-45f1-9e75-b883838f5bb1',\n",
              "    'name': 'Tadiwanashe Marumani'},\n",
              "   'dismissal-text': 'c t marumani b raza',\n",
              "   'r': 10,\n",
              "   'b': 9,\n",
              "   '4s': 1,\n",
              "   '6s': 0,\n",
              "   'sr': 111.11,\n",
              "   '': 0},\n",
              "  {'batsman': {'id': '50b70c71-1535-41c0-87fd-c12883105ede',\n",
              "    'name': 'Ruturaj Gaikwad'},\n",
              "   'dismissal': 'catch',\n",
              "   'bowler': {'id': '50e38c9d-bf39-44b8-b5e6-0c9f36b8cbdf',\n",
              "    'name': 'Blessing Muzarabani'},\n",
              "   'catcher': {'id': '78b833a2-6813-4529-bf41-21313ebaa4e6',\n",
              "    'name': 'Wessly Madhevere'},\n",
              "   'dismissal-text': 'c madhevere b muzarabani',\n",
              "   'r': 49,\n",
              "   'b': 28,\n",
              "   '4s': 4,\n",
              "   '6s': 3,\n",
              "   'sr': 175,\n",
              "   '': 0},\n",
              "  {'batsman': {'id': '35ed1b20-38f3-4013-be2e-dc28ffbecfd6',\n",
              "    'name': 'Sanju Samson'},\n",
              "   'dismissal-text': 'not out',\n",
              "   'r': 12,\n",
              "   'b': 7,\n",
              "   '4s': 2,\n",
              "   '6s': 0,\n",
              "   'sr': 171.43,\n",
              "   '': 0},\n",
              "  {'batsman': {'id': '11864f31-b766-4766-9cbc-5026015ace48',\n",
              "    'name': 'Rinku Singh'},\n",
              "   'dismissal-text': 'not out',\n",
              "   'r': 1,\n",
              "   'b': 1,\n",
              "   '4s': 0,\n",
              "   '6s': 0,\n",
              "   'sr': 100,\n",
              "   '': 0}],\n",
              " 'bowling': [{'bowler': {'id': '55e1ded0-dbd4-48d2-9df8-f7b92fcd0fef',\n",
              "    'name': 'Brian Bennett '},\n",
              "   'o': 1,\n",
              "   'm': 0,\n",
              "   'r': 15,\n",
              "   'w': 0,\n",
              "   'nb': 1,\n",
              "   'wd': 0,\n",
              "   'eco': 15},\n",
              "  {'bowler': {'id': '4812dee7-6ab3-40cf-80f1-02cee4124b4a',\n",
              "    'name': 'Richard Ngarava'},\n",
              "   'o': 4,\n",
              "   'm': 0,\n",
              "   'r': 39,\n",
              "   'w': 0,\n",
              "   'nb': 0,\n",
              "   'wd': 0,\n",
              "   'eco': 9.8},\n",
              "  {'bowler': {'id': '7d8aa17f-7817-4a0b-95b4-555fba86f501',\n",
              "    'name': 'Tendai Chatara'},\n",
              "   'o': 3,\n",
              "   'm': 0,\n",
              "   'r': 30,\n",
              "   'w': 0,\n",
              "   'nb': 0,\n",
              "   'wd': 0,\n",
              "   'eco': 10},\n",
              "  {'bowler': {'id': '50e38c9d-bf39-44b8-b5e6-0c9f36b8cbdf',\n",
              "    'name': 'Blessing Muzarabani'},\n",
              "   'o': 4,\n",
              "   'm': 0,\n",
              "   'r': 25,\n",
              "   'w': 2,\n",
              "   'nb': 0,\n",
              "   'wd': 2,\n",
              "   'eco': 6.2},\n",
              "  {'bowler': {'id': '3a93bfb5-1fd1-4342-99f1-397161de9d10',\n",
              "    'name': 'Sikandar Raza'},\n",
              "   'o': 4,\n",
              "   'm': 0,\n",
              "   'r': 24,\n",
              "   'w': 2,\n",
              "   'nb': 0,\n",
              "   'wd': 0,\n",
              "   'eco': 6},\n",
              "  {'bowler': {'id': '397bf103-6977-4e5b-b437-6f448764b36a',\n",
              "    'name': 'Wellington Masakadza'},\n",
              "   'o': 3,\n",
              "   'm': 0,\n",
              "   'r': 25,\n",
              "   'w': 0,\n",
              "   'nb': 0,\n",
              "   'wd': 0,\n",
              "   'eco': 8.3},\n",
              "  {'bowler': {'id': '78b833a2-6813-4529-bf41-21313ebaa4e6',\n",
              "    'name': 'Wessly Madhevere'},\n",
              "   'o': 1,\n",
              "   'm': 0,\n",
              "   'r': 19,\n",
              "   'w': 0,\n",
              "   'nb': 0,\n",
              "   'wd': 0,\n",
              "   'eco': 19}],\n",
              " 'catching': [{'catcher': {'id': '55e1ded0-dbd4-48d2-9df8-f7b92fcd0fef',\n",
              "    'name': 'Brian Bennett '},\n",
              "   'stumped': 0,\n",
              "   'runout': 0,\n",
              "   'catch': 1,\n",
              "   'cb': 0,\n",
              "   'lbw': 0,\n",
              "   'bowled': 0},\n",
              "  {'catcher': {'id': '3a93bfb5-1fd1-4342-99f1-397161de9d10',\n",
              "    'name': 'Sikandar Raza'},\n",
              "   'stumped': 0,\n",
              "   'runout': 0,\n",
              "   'catch': 1,\n",
              "   'cb': 0,\n",
              "   'lbw': 0,\n",
              "   'bowled': 0},\n",
              "  {'catcher': {'id': 'fc4102d8-b2f6-45f1-9e75-b883838f5bb1',\n",
              "    'name': 'Tadiwanashe Marumani'},\n",
              "   'stumped': 0,\n",
              "   'runout': 0,\n",
              "   'catch': 1,\n",
              "   'cb': 0,\n",
              "   'lbw': 0,\n",
              "   'bowled': 0},\n",
              "  {'catcher': {'id': '78b833a2-6813-4529-bf41-21313ebaa4e6',\n",
              "    'name': 'Wessly Madhevere'},\n",
              "   'stumped': 0,\n",
              "   'runout': 0,\n",
              "   'catch': 1,\n",
              "   'cb': 0,\n",
              "   'lbw': 0,\n",
              "   'bowled': 0}],\n",
              " 'extras': {'r': 8, 'b': 4},\n",
              " 'totals': {},\n",
              " 'inning': 'India Inning 1'}"
            ]
          },
          "execution_count": 77,
          "metadata": {},
          "output_type": "execute_result"
        }
      ],
      "source": []
    },
    {
      "cell_type": "code",
      "execution_count": null,
      "metadata": {
        "id": "E7VzvqcpTWJR"
      },
      "outputs": [],
      "source": [
        "data=[]\n",
        "for i in score_card:\n",
        "  battingdata=i[\"batting\"]\n",
        "  for j in battingdata:\n",
        "    data.append(j)"
      ]
    },
    {
      "cell_type": "code",
      "execution_count": null,
      "metadata": {
        "id": "vVcjG0-EUWz4"
      },
      "outputs": [],
      "source": [
        "import pandas as pd\n"
      ]
    },
    {
      "cell_type": "code",
      "execution_count": null,
      "metadata": {
        "colab": {
          "base_uri": "https://localhost:8080/",
          "height": 731
        },
        "id": "3tf4SbVYUxPk",
        "outputId": "f5d5f098-8f0c-4955-adad-73caa41edb50"
      },
      "outputs": [
        {
          "data": {
            "application/vnd.google.colaboratory.intrinsic+json": {
              "summary": "{\n  \"name\": \"df\",\n  \"rows\": 14,\n  \"fields\": [\n    {\n      \"column\": \"batsman\",\n      \"properties\": {\n        \"dtype\": \"object\",\n        \"semantic_type\": \"\",\n        \"description\": \"\"\n      }\n    },\n    {\n      \"column\": \"dismissal\",\n      \"properties\": {\n        \"dtype\": \"category\",\n        \"num_unique_values\": 1,\n        \"samples\": [\n          \"catch\"\n        ],\n        \"semantic_type\": \"\",\n        \"description\": \"\"\n      }\n    },\n    {\n      \"column\": \"bowler\",\n      \"properties\": {\n        \"dtype\": \"object\",\n        \"semantic_type\": \"\",\n        \"description\": \"\"\n      }\n    },\n    {\n      \"column\": \"catcher\",\n      \"properties\": {\n        \"dtype\": \"object\",\n        \"semantic_type\": \"\",\n        \"description\": \"\"\n      }\n    },\n    {\n      \"column\": \"dismissal-text\",\n      \"properties\": {\n        \"dtype\": \"string\",\n        \"num_unique_values\": 10,\n        \"samples\": [\n          \"c rinku singh b washington sundar\"\n        ],\n        \"semantic_type\": \"\",\n        \"description\": \"\"\n      }\n    },\n    {\n      \"column\": \"r\",\n      \"properties\": {\n        \"dtype\": \"number\",\n        \"std\": 23,\n        \"min\": 1,\n        \"max\": 66,\n        \"num_unique_values\": 12,\n        \"samples\": [\n          37\n        ],\n        \"semantic_type\": \"\",\n        \"description\": \"\"\n      }\n    },\n    {\n      \"column\": \"b\",\n      \"properties\": {\n        \"dtype\": \"number\",\n        \"std\": 16,\n        \"min\": 1,\n        \"max\": 49,\n        \"num_unique_values\": 11,\n        \"samples\": [\n          1\n        ],\n        \"semantic_type\": \"\",\n        \"description\": \"\"\n      }\n    },\n    {\n      \"column\": \"4s\",\n      \"properties\": {\n        \"dtype\": \"number\",\n        \"std\": 2,\n        \"min\": 0,\n        \"max\": 7,\n        \"num_unique_values\": 6,\n        \"samples\": [\n          4\n        ],\n        \"semantic_type\": \"\",\n        \"description\": \"\"\n      }\n    },\n    {\n      \"column\": \"6s\",\n      \"properties\": {\n        \"dtype\": \"number\",\n        \"std\": 1,\n        \"min\": 0,\n        \"max\": 3,\n        \"num_unique_values\": 4,\n        \"samples\": [\n          3\n        ],\n        \"semantic_type\": \"\",\n        \"description\": \"\"\n      }\n    },\n    {\n      \"column\": \"sr\",\n      \"properties\": {\n        \"dtype\": \"number\",\n        \"std\": 42.05132463842434,\n        \"min\": 50.0,\n        \"max\": 180.0,\n        \"num_unique_values\": 13,\n        \"samples\": [\n          142.31\n        ],\n        \"semantic_type\": \"\",\n        \"description\": \"\"\n      }\n    },\n    {\n      \"column\": \"\",\n      \"properties\": {\n        \"dtype\": \"number\",\n        \"std\": 0,\n        \"min\": 0,\n        \"max\": 0,\n        \"num_unique_values\": 1,\n        \"samples\": [\n          0\n        ],\n        \"semantic_type\": \"\",\n        \"description\": \"\"\n      }\n    }\n  ]\n}",
              "type": "dataframe",
              "variable_name": "df"
            },
            "text/html": [
              "\n",
              "  <div id=\"df-32846fc9-ba66-4d1b-84ba-11e1e761294b\" class=\"colab-df-container\">\n",
              "    <div>\n",
              "<style scoped>\n",
              "    .dataframe tbody tr th:only-of-type {\n",
              "        vertical-align: middle;\n",
              "    }\n",
              "\n",
              "    .dataframe tbody tr th {\n",
              "        vertical-align: top;\n",
              "    }\n",
              "\n",
              "    .dataframe thead th {\n",
              "        text-align: right;\n",
              "    }\n",
              "</style>\n",
              "<table border=\"1\" class=\"dataframe\">\n",
              "  <thead>\n",
              "    <tr style=\"text-align: right;\">\n",
              "      <th></th>\n",
              "      <th>batsman</th>\n",
              "      <th>dismissal</th>\n",
              "      <th>bowler</th>\n",
              "      <th>catcher</th>\n",
              "      <th>dismissal-text</th>\n",
              "      <th>r</th>\n",
              "      <th>b</th>\n",
              "      <th>4s</th>\n",
              "      <th>6s</th>\n",
              "      <th>sr</th>\n",
              "      <th></th>\n",
              "    </tr>\n",
              "  </thead>\n",
              "  <tbody>\n",
              "    <tr>\n",
              "      <th>0</th>\n",
              "      <td>{'id': 'a254feed-0d7c-4f04-a2ab-7bf9ceef156b',...</td>\n",
              "      <td>catch</td>\n",
              "      <td>{'id': '3a93bfb5-1fd1-4342-99f1-397161de9d10',...</td>\n",
              "      <td>{'id': '55e1ded0-dbd4-48d2-9df8-f7b92fcd0fef',...</td>\n",
              "      <td>c brian bennett b raza</td>\n",
              "      <td>36</td>\n",
              "      <td>27</td>\n",
              "      <td>4</td>\n",
              "      <td>2</td>\n",
              "      <td>133.33</td>\n",
              "      <td>0</td>\n",
              "    </tr>\n",
              "    <tr>\n",
              "      <th>1</th>\n",
              "      <td>{'id': '7263e990-a9e9-4829-8adf-760d18d1315c',...</td>\n",
              "      <td>catch</td>\n",
              "      <td>{'id': '50e38c9d-bf39-44b8-b5e6-0c9f36b8cbdf',...</td>\n",
              "      <td>{'id': '3a93bfb5-1fd1-4342-99f1-397161de9d10',...</td>\n",
              "      <td>c raza b muzarabani</td>\n",
              "      <td>66</td>\n",
              "      <td>49</td>\n",
              "      <td>7</td>\n",
              "      <td>3</td>\n",
              "      <td>134.69</td>\n",
              "      <td>0</td>\n",
              "    </tr>\n",
              "    <tr>\n",
              "      <th>2</th>\n",
              "      <td>{'id': '83fe6ab6-d63c-420e-9416-a93d59a9a964',...</td>\n",
              "      <td>catch</td>\n",
              "      <td>{'id': '3a93bfb5-1fd1-4342-99f1-397161de9d10',...</td>\n",
              "      <td>{'id': 'fc4102d8-b2f6-45f1-9e75-b883838f5bb1',...</td>\n",
              "      <td>c t marumani b raza</td>\n",
              "      <td>10</td>\n",
              "      <td>9</td>\n",
              "      <td>1</td>\n",
              "      <td>0</td>\n",
              "      <td>111.11</td>\n",
              "      <td>0</td>\n",
              "    </tr>\n",
              "    <tr>\n",
              "      <th>3</th>\n",
              "      <td>{'id': '50b70c71-1535-41c0-87fd-c12883105ede',...</td>\n",
              "      <td>catch</td>\n",
              "      <td>{'id': '50e38c9d-bf39-44b8-b5e6-0c9f36b8cbdf',...</td>\n",
              "      <td>{'id': '78b833a2-6813-4529-bf41-21313ebaa4e6',...</td>\n",
              "      <td>c madhevere b muzarabani</td>\n",
              "      <td>49</td>\n",
              "      <td>28</td>\n",
              "      <td>4</td>\n",
              "      <td>3</td>\n",
              "      <td>175.00</td>\n",
              "      <td>0</td>\n",
              "    </tr>\n",
              "    <tr>\n",
              "      <th>4</th>\n",
              "      <td>{'id': '35ed1b20-38f3-4013-be2e-dc28ffbecfd6',...</td>\n",
              "      <td>NaN</td>\n",
              "      <td>NaN</td>\n",
              "      <td>NaN</td>\n",
              "      <td>not out</td>\n",
              "      <td>12</td>\n",
              "      <td>7</td>\n",
              "      <td>2</td>\n",
              "      <td>0</td>\n",
              "      <td>171.43</td>\n",
              "      <td>0</td>\n",
              "    </tr>\n",
              "    <tr>\n",
              "      <th>5</th>\n",
              "      <td>{'id': '11864f31-b766-4766-9cbc-5026015ace48',...</td>\n",
              "      <td>NaN</td>\n",
              "      <td>NaN</td>\n",
              "      <td>NaN</td>\n",
              "      <td>not out</td>\n",
              "      <td>1</td>\n",
              "      <td>1</td>\n",
              "      <td>0</td>\n",
              "      <td>0</td>\n",
              "      <td>100.00</td>\n",
              "      <td>0</td>\n",
              "    </tr>\n",
              "    <tr>\n",
              "      <th>6</th>\n",
              "      <td>{'id': '78b833a2-6813-4529-bf41-21313ebaa4e6',...</td>\n",
              "      <td>catch</td>\n",
              "      <td>{'id': '332200ad-d1f8-4035-95c5-b33bd1c9a939',...</td>\n",
              "      <td>{'id': '83fe6ab6-d63c-420e-9416-a93d59a9a964',...</td>\n",
              "      <td>c abhishek sharma b avesh khan</td>\n",
              "      <td>1</td>\n",
              "      <td>2</td>\n",
              "      <td>0</td>\n",
              "      <td>0</td>\n",
              "      <td>50.00</td>\n",
              "      <td>0</td>\n",
              "    </tr>\n",
              "    <tr>\n",
              "      <th>7</th>\n",
              "      <td>{'id': 'fc4102d8-b2f6-45f1-9e75-b883838f5bb1',...</td>\n",
              "      <td>catch</td>\n",
              "      <td>{'id': '8df6183b-1c95-46d2-85c0-e185792d03f1',...</td>\n",
              "      <td>{'id': '22ee45d8-0538-4e3e-a758-c515f9b86d11',...</td>\n",
              "      <td>c shivam dube b khaleel ahmed</td>\n",
              "      <td>13</td>\n",
              "      <td>10</td>\n",
              "      <td>3</td>\n",
              "      <td>0</td>\n",
              "      <td>130.00</td>\n",
              "      <td>0</td>\n",
              "    </tr>\n",
              "    <tr>\n",
              "      <th>8</th>\n",
              "      <td>{'id': '55e1ded0-dbd4-48d2-9df8-f7b92fcd0fef',...</td>\n",
              "      <td>catch</td>\n",
              "      <td>{'id': '332200ad-d1f8-4035-95c5-b33bd1c9a939',...</td>\n",
              "      <td>{'id': '9a71201c-c377-45aa-a355-1af6d2c4bae3',...</td>\n",
              "      <td>c ravi bishnoi b avesh khan</td>\n",
              "      <td>4</td>\n",
              "      <td>5</td>\n",
              "      <td>1</td>\n",
              "      <td>0</td>\n",
              "      <td>80.00</td>\n",
              "      <td>0</td>\n",
              "    </tr>\n",
              "    <tr>\n",
              "      <th>9</th>\n",
              "      <td>{'id': '79eee646-64b8-4392-9ad1-cb1c7630034d',...</td>\n",
              "      <td>NaN</td>\n",
              "      <td>NaN</td>\n",
              "      <td>NaN</td>\n",
              "      <td>not out</td>\n",
              "      <td>65</td>\n",
              "      <td>49</td>\n",
              "      <td>7</td>\n",
              "      <td>1</td>\n",
              "      <td>132.65</td>\n",
              "      <td>0</td>\n",
              "    </tr>\n",
              "    <tr>\n",
              "      <th>10</th>\n",
              "      <td>{'id': '3a93bfb5-1fd1-4342-99f1-397161de9d10',...</td>\n",
              "      <td>catch</td>\n",
              "      <td>{'id': '309d3ffd-3d06-460d-9427-c559a604d471',...</td>\n",
              "      <td>{'id': '11864f31-b766-4766-9cbc-5026015ace48',...</td>\n",
              "      <td>c rinku singh b washington sundar</td>\n",
              "      <td>15</td>\n",
              "      <td>16</td>\n",
              "      <td>3</td>\n",
              "      <td>0</td>\n",
              "      <td>93.75</td>\n",
              "      <td>0</td>\n",
              "    </tr>\n",
              "    <tr>\n",
              "      <th>11</th>\n",
              "      <td>{'id': '79adea1e-ac28-43d7-a734-b05344779200',...</td>\n",
              "      <td>catch</td>\n",
              "      <td>{'id': '309d3ffd-3d06-460d-9427-c559a604d471',...</td>\n",
              "      <td>{'id': 'b51bb4e5-acdf-423b-abb3-7a1e6694d2c2',...</td>\n",
              "      <td>c riyan parag b washington sundar</td>\n",
              "      <td>1</td>\n",
              "      <td>2</td>\n",
              "      <td>0</td>\n",
              "      <td>0</td>\n",
              "      <td>50.00</td>\n",
              "      <td>0</td>\n",
              "    </tr>\n",
              "    <tr>\n",
              "      <th>12</th>\n",
              "      <td>{'id': '0528d8b0-a6ce-498f-a573-d0edb1efcf9b',...</td>\n",
              "      <td>catch</td>\n",
              "      <td>{'id': '309d3ffd-3d06-460d-9427-c559a604d471',...</td>\n",
              "      <td>{'id': '11864f31-b766-4766-9cbc-5026015ace48',...</td>\n",
              "      <td>c rinku singh b washington sundar</td>\n",
              "      <td>37</td>\n",
              "      <td>26</td>\n",
              "      <td>2</td>\n",
              "      <td>2</td>\n",
              "      <td>142.31</td>\n",
              "      <td>0</td>\n",
              "    </tr>\n",
              "    <tr>\n",
              "      <th>13</th>\n",
              "      <td>{'id': '397bf103-6977-4e5b-b437-6f448764b36a',...</td>\n",
              "      <td>NaN</td>\n",
              "      <td>NaN</td>\n",
              "      <td>NaN</td>\n",
              "      <td>not out</td>\n",
              "      <td>18</td>\n",
              "      <td>10</td>\n",
              "      <td>1</td>\n",
              "      <td>1</td>\n",
              "      <td>180.00</td>\n",
              "      <td>0</td>\n",
              "    </tr>\n",
              "  </tbody>\n",
              "</table>\n",
              "</div>\n",
              "    <div class=\"colab-df-buttons\">\n",
              "\n",
              "  <div class=\"colab-df-container\">\n",
              "    <button class=\"colab-df-convert\" onclick=\"convertToInteractive('df-32846fc9-ba66-4d1b-84ba-11e1e761294b')\"\n",
              "            title=\"Convert this dataframe to an interactive table.\"\n",
              "            style=\"display:none;\">\n",
              "\n",
              "  <svg xmlns=\"http://www.w3.org/2000/svg\" height=\"24px\" viewBox=\"0 -960 960 960\">\n",
              "    <path d=\"M120-120v-720h720v720H120Zm60-500h600v-160H180v160Zm220 220h160v-160H400v160Zm0 220h160v-160H400v160ZM180-400h160v-160H180v160Zm440 0h160v-160H620v160ZM180-180h160v-160H180v160Zm440 0h160v-160H620v160Z\"/>\n",
              "  </svg>\n",
              "    </button>\n",
              "\n",
              "  <style>\n",
              "    .colab-df-container {\n",
              "      display:flex;\n",
              "      gap: 12px;\n",
              "    }\n",
              "\n",
              "    .colab-df-convert {\n",
              "      background-color: #E8F0FE;\n",
              "      border: none;\n",
              "      border-radius: 50%;\n",
              "      cursor: pointer;\n",
              "      display: none;\n",
              "      fill: #1967D2;\n",
              "      height: 32px;\n",
              "      padding: 0 0 0 0;\n",
              "      width: 32px;\n",
              "    }\n",
              "\n",
              "    .colab-df-convert:hover {\n",
              "      background-color: #E2EBFA;\n",
              "      box-shadow: 0px 1px 2px rgba(60, 64, 67, 0.3), 0px 1px 3px 1px rgba(60, 64, 67, 0.15);\n",
              "      fill: #174EA6;\n",
              "    }\n",
              "\n",
              "    .colab-df-buttons div {\n",
              "      margin-bottom: 4px;\n",
              "    }\n",
              "\n",
              "    [theme=dark] .colab-df-convert {\n",
              "      background-color: #3B4455;\n",
              "      fill: #D2E3FC;\n",
              "    }\n",
              "\n",
              "    [theme=dark] .colab-df-convert:hover {\n",
              "      background-color: #434B5C;\n",
              "      box-shadow: 0px 1px 3px 1px rgba(0, 0, 0, 0.15);\n",
              "      filter: drop-shadow(0px 1px 2px rgba(0, 0, 0, 0.3));\n",
              "      fill: #FFFFFF;\n",
              "    }\n",
              "  </style>\n",
              "\n",
              "    <script>\n",
              "      const buttonEl =\n",
              "        document.querySelector('#df-32846fc9-ba66-4d1b-84ba-11e1e761294b button.colab-df-convert');\n",
              "      buttonEl.style.display =\n",
              "        google.colab.kernel.accessAllowed ? 'block' : 'none';\n",
              "\n",
              "      async function convertToInteractive(key) {\n",
              "        const element = document.querySelector('#df-32846fc9-ba66-4d1b-84ba-11e1e761294b');\n",
              "        const dataTable =\n",
              "          await google.colab.kernel.invokeFunction('convertToInteractive',\n",
              "                                                    [key], {});\n",
              "        if (!dataTable) return;\n",
              "\n",
              "        const docLinkHtml = 'Like what you see? Visit the ' +\n",
              "          '<a target=\"_blank\" href=https://colab.research.google.com/notebooks/data_table.ipynb>data table notebook</a>'\n",
              "          + ' to learn more about interactive tables.';\n",
              "        element.innerHTML = '';\n",
              "        dataTable['output_type'] = 'display_data';\n",
              "        await google.colab.output.renderOutput(dataTable, element);\n",
              "        const docLink = document.createElement('div');\n",
              "        docLink.innerHTML = docLinkHtml;\n",
              "        element.appendChild(docLink);\n",
              "      }\n",
              "    </script>\n",
              "  </div>\n",
              "\n",
              "\n",
              "<div id=\"df-dbc1e79b-b1ce-4618-80f3-7a17990200e5\">\n",
              "  <button class=\"colab-df-quickchart\" onclick=\"quickchart('df-dbc1e79b-b1ce-4618-80f3-7a17990200e5')\"\n",
              "            title=\"Suggest charts\"\n",
              "            style=\"display:none;\">\n",
              "\n",
              "<svg xmlns=\"http://www.w3.org/2000/svg\" height=\"24px\"viewBox=\"0 0 24 24\"\n",
              "     width=\"24px\">\n",
              "    <g>\n",
              "        <path d=\"M19 3H5c-1.1 0-2 .9-2 2v14c0 1.1.9 2 2 2h14c1.1 0 2-.9 2-2V5c0-1.1-.9-2-2-2zM9 17H7v-7h2v7zm4 0h-2V7h2v10zm4 0h-2v-4h2v4z\"/>\n",
              "    </g>\n",
              "</svg>\n",
              "  </button>\n",
              "\n",
              "<style>\n",
              "  .colab-df-quickchart {\n",
              "      --bg-color: #E8F0FE;\n",
              "      --fill-color: #1967D2;\n",
              "      --hover-bg-color: #E2EBFA;\n",
              "      --hover-fill-color: #174EA6;\n",
              "      --disabled-fill-color: #AAA;\n",
              "      --disabled-bg-color: #DDD;\n",
              "  }\n",
              "\n",
              "  [theme=dark] .colab-df-quickchart {\n",
              "      --bg-color: #3B4455;\n",
              "      --fill-color: #D2E3FC;\n",
              "      --hover-bg-color: #434B5C;\n",
              "      --hover-fill-color: #FFFFFF;\n",
              "      --disabled-bg-color: #3B4455;\n",
              "      --disabled-fill-color: #666;\n",
              "  }\n",
              "\n",
              "  .colab-df-quickchart {\n",
              "    background-color: var(--bg-color);\n",
              "    border: none;\n",
              "    border-radius: 50%;\n",
              "    cursor: pointer;\n",
              "    display: none;\n",
              "    fill: var(--fill-color);\n",
              "    height: 32px;\n",
              "    padding: 0;\n",
              "    width: 32px;\n",
              "  }\n",
              "\n",
              "  .colab-df-quickchart:hover {\n",
              "    background-color: var(--hover-bg-color);\n",
              "    box-shadow: 0 1px 2px rgba(60, 64, 67, 0.3), 0 1px 3px 1px rgba(60, 64, 67, 0.15);\n",
              "    fill: var(--button-hover-fill-color);\n",
              "  }\n",
              "\n",
              "  .colab-df-quickchart-complete:disabled,\n",
              "  .colab-df-quickchart-complete:disabled:hover {\n",
              "    background-color: var(--disabled-bg-color);\n",
              "    fill: var(--disabled-fill-color);\n",
              "    box-shadow: none;\n",
              "  }\n",
              "\n",
              "  .colab-df-spinner {\n",
              "    border: 2px solid var(--fill-color);\n",
              "    border-color: transparent;\n",
              "    border-bottom-color: var(--fill-color);\n",
              "    animation:\n",
              "      spin 1s steps(1) infinite;\n",
              "  }\n",
              "\n",
              "  @keyframes spin {\n",
              "    0% {\n",
              "      border-color: transparent;\n",
              "      border-bottom-color: var(--fill-color);\n",
              "      border-left-color: var(--fill-color);\n",
              "    }\n",
              "    20% {\n",
              "      border-color: transparent;\n",
              "      border-left-color: var(--fill-color);\n",
              "      border-top-color: var(--fill-color);\n",
              "    }\n",
              "    30% {\n",
              "      border-color: transparent;\n",
              "      border-left-color: var(--fill-color);\n",
              "      border-top-color: var(--fill-color);\n",
              "      border-right-color: var(--fill-color);\n",
              "    }\n",
              "    40% {\n",
              "      border-color: transparent;\n",
              "      border-right-color: var(--fill-color);\n",
              "      border-top-color: var(--fill-color);\n",
              "    }\n",
              "    60% {\n",
              "      border-color: transparent;\n",
              "      border-right-color: var(--fill-color);\n",
              "    }\n",
              "    80% {\n",
              "      border-color: transparent;\n",
              "      border-right-color: var(--fill-color);\n",
              "      border-bottom-color: var(--fill-color);\n",
              "    }\n",
              "    90% {\n",
              "      border-color: transparent;\n",
              "      border-bottom-color: var(--fill-color);\n",
              "    }\n",
              "  }\n",
              "</style>\n",
              "\n",
              "  <script>\n",
              "    async function quickchart(key) {\n",
              "      const quickchartButtonEl =\n",
              "        document.querySelector('#' + key + ' button');\n",
              "      quickchartButtonEl.disabled = true;  // To prevent multiple clicks.\n",
              "      quickchartButtonEl.classList.add('colab-df-spinner');\n",
              "      try {\n",
              "        const charts = await google.colab.kernel.invokeFunction(\n",
              "            'suggestCharts', [key], {});\n",
              "      } catch (error) {\n",
              "        console.error('Error during call to suggestCharts:', error);\n",
              "      }\n",
              "      quickchartButtonEl.classList.remove('colab-df-spinner');\n",
              "      quickchartButtonEl.classList.add('colab-df-quickchart-complete');\n",
              "    }\n",
              "    (() => {\n",
              "      let quickchartButtonEl =\n",
              "        document.querySelector('#df-dbc1e79b-b1ce-4618-80f3-7a17990200e5 button');\n",
              "      quickchartButtonEl.style.display =\n",
              "        google.colab.kernel.accessAllowed ? 'block' : 'none';\n",
              "    })();\n",
              "  </script>\n",
              "</div>\n",
              "\n",
              "  <div id=\"id_a7884153-9dd6-4816-a29a-e36a529e647c\">\n",
              "    <style>\n",
              "      .colab-df-generate {\n",
              "        background-color: #E8F0FE;\n",
              "        border: none;\n",
              "        border-radius: 50%;\n",
              "        cursor: pointer;\n",
              "        display: none;\n",
              "        fill: #1967D2;\n",
              "        height: 32px;\n",
              "        padding: 0 0 0 0;\n",
              "        width: 32px;\n",
              "      }\n",
              "\n",
              "      .colab-df-generate:hover {\n",
              "        background-color: #E2EBFA;\n",
              "        box-shadow: 0px 1px 2px rgba(60, 64, 67, 0.3), 0px 1px 3px 1px rgba(60, 64, 67, 0.15);\n",
              "        fill: #174EA6;\n",
              "      }\n",
              "\n",
              "      [theme=dark] .colab-df-generate {\n",
              "        background-color: #3B4455;\n",
              "        fill: #D2E3FC;\n",
              "      }\n",
              "\n",
              "      [theme=dark] .colab-df-generate:hover {\n",
              "        background-color: #434B5C;\n",
              "        box-shadow: 0px 1px 3px 1px rgba(0, 0, 0, 0.15);\n",
              "        filter: drop-shadow(0px 1px 2px rgba(0, 0, 0, 0.3));\n",
              "        fill: #FFFFFF;\n",
              "      }\n",
              "    </style>\n",
              "    <button class=\"colab-df-generate\" onclick=\"generateWithVariable('df')\"\n",
              "            title=\"Generate code using this dataframe.\"\n",
              "            style=\"display:none;\">\n",
              "\n",
              "  <svg xmlns=\"http://www.w3.org/2000/svg\" height=\"24px\"viewBox=\"0 0 24 24\"\n",
              "       width=\"24px\">\n",
              "    <path d=\"M7,19H8.4L18.45,9,17,7.55,7,17.6ZM5,21V16.75L18.45,3.32a2,2,0,0,1,2.83,0l1.4,1.43a1.91,1.91,0,0,1,.58,1.4,1.91,1.91,0,0,1-.58,1.4L9.25,21ZM18.45,9,17,7.55Zm-12,3A5.31,5.31,0,0,0,4.9,8.1,5.31,5.31,0,0,0,1,6.5,5.31,5.31,0,0,0,4.9,4.9,5.31,5.31,0,0,0,6.5,1,5.31,5.31,0,0,0,8.1,4.9,5.31,5.31,0,0,0,12,6.5,5.46,5.46,0,0,0,6.5,12Z\"/>\n",
              "  </svg>\n",
              "    </button>\n",
              "    <script>\n",
              "      (() => {\n",
              "      const buttonEl =\n",
              "        document.querySelector('#id_a7884153-9dd6-4816-a29a-e36a529e647c button.colab-df-generate');\n",
              "      buttonEl.style.display =\n",
              "        google.colab.kernel.accessAllowed ? 'block' : 'none';\n",
              "\n",
              "      buttonEl.onclick = () => {\n",
              "        google.colab.notebook.generateWithVariable('df');\n",
              "      }\n",
              "      })();\n",
              "    </script>\n",
              "  </div>\n",
              "\n",
              "    </div>\n",
              "  </div>\n"
            ],
            "text/plain": [
              "                                              batsman dismissal  \\\n",
              "0   {'id': 'a254feed-0d7c-4f04-a2ab-7bf9ceef156b',...     catch   \n",
              "1   {'id': '7263e990-a9e9-4829-8adf-760d18d1315c',...     catch   \n",
              "2   {'id': '83fe6ab6-d63c-420e-9416-a93d59a9a964',...     catch   \n",
              "3   {'id': '50b70c71-1535-41c0-87fd-c12883105ede',...     catch   \n",
              "4   {'id': '35ed1b20-38f3-4013-be2e-dc28ffbecfd6',...       NaN   \n",
              "5   {'id': '11864f31-b766-4766-9cbc-5026015ace48',...       NaN   \n",
              "6   {'id': '78b833a2-6813-4529-bf41-21313ebaa4e6',...     catch   \n",
              "7   {'id': 'fc4102d8-b2f6-45f1-9e75-b883838f5bb1',...     catch   \n",
              "8   {'id': '55e1ded0-dbd4-48d2-9df8-f7b92fcd0fef',...     catch   \n",
              "9   {'id': '79eee646-64b8-4392-9ad1-cb1c7630034d',...       NaN   \n",
              "10  {'id': '3a93bfb5-1fd1-4342-99f1-397161de9d10',...     catch   \n",
              "11  {'id': '79adea1e-ac28-43d7-a734-b05344779200',...     catch   \n",
              "12  {'id': '0528d8b0-a6ce-498f-a573-d0edb1efcf9b',...     catch   \n",
              "13  {'id': '397bf103-6977-4e5b-b437-6f448764b36a',...       NaN   \n",
              "\n",
              "                                               bowler  \\\n",
              "0   {'id': '3a93bfb5-1fd1-4342-99f1-397161de9d10',...   \n",
              "1   {'id': '50e38c9d-bf39-44b8-b5e6-0c9f36b8cbdf',...   \n",
              "2   {'id': '3a93bfb5-1fd1-4342-99f1-397161de9d10',...   \n",
              "3   {'id': '50e38c9d-bf39-44b8-b5e6-0c9f36b8cbdf',...   \n",
              "4                                                 NaN   \n",
              "5                                                 NaN   \n",
              "6   {'id': '332200ad-d1f8-4035-95c5-b33bd1c9a939',...   \n",
              "7   {'id': '8df6183b-1c95-46d2-85c0-e185792d03f1',...   \n",
              "8   {'id': '332200ad-d1f8-4035-95c5-b33bd1c9a939',...   \n",
              "9                                                 NaN   \n",
              "10  {'id': '309d3ffd-3d06-460d-9427-c559a604d471',...   \n",
              "11  {'id': '309d3ffd-3d06-460d-9427-c559a604d471',...   \n",
              "12  {'id': '309d3ffd-3d06-460d-9427-c559a604d471',...   \n",
              "13                                                NaN   \n",
              "\n",
              "                                              catcher  \\\n",
              "0   {'id': '55e1ded0-dbd4-48d2-9df8-f7b92fcd0fef',...   \n",
              "1   {'id': '3a93bfb5-1fd1-4342-99f1-397161de9d10',...   \n",
              "2   {'id': 'fc4102d8-b2f6-45f1-9e75-b883838f5bb1',...   \n",
              "3   {'id': '78b833a2-6813-4529-bf41-21313ebaa4e6',...   \n",
              "4                                                 NaN   \n",
              "5                                                 NaN   \n",
              "6   {'id': '83fe6ab6-d63c-420e-9416-a93d59a9a964',...   \n",
              "7   {'id': '22ee45d8-0538-4e3e-a758-c515f9b86d11',...   \n",
              "8   {'id': '9a71201c-c377-45aa-a355-1af6d2c4bae3',...   \n",
              "9                                                 NaN   \n",
              "10  {'id': '11864f31-b766-4766-9cbc-5026015ace48',...   \n",
              "11  {'id': 'b51bb4e5-acdf-423b-abb3-7a1e6694d2c2',...   \n",
              "12  {'id': '11864f31-b766-4766-9cbc-5026015ace48',...   \n",
              "13                                                NaN   \n",
              "\n",
              "                       dismissal-text   r   b  4s  6s      sr     \n",
              "0              c brian bennett b raza  36  27   4   2  133.33  0  \n",
              "1                 c raza b muzarabani  66  49   7   3  134.69  0  \n",
              "2                 c t marumani b raza  10   9   1   0  111.11  0  \n",
              "3            c madhevere b muzarabani  49  28   4   3  175.00  0  \n",
              "4                             not out  12   7   2   0  171.43  0  \n",
              "5                             not out   1   1   0   0  100.00  0  \n",
              "6      c abhishek sharma b avesh khan   1   2   0   0   50.00  0  \n",
              "7       c shivam dube b khaleel ahmed  13  10   3   0  130.00  0  \n",
              "8         c ravi bishnoi b avesh khan   4   5   1   0   80.00  0  \n",
              "9                             not out  65  49   7   1  132.65  0  \n",
              "10  c rinku singh b washington sundar  15  16   3   0   93.75  0  \n",
              "11  c riyan parag b washington sundar   1   2   0   0   50.00  0  \n",
              "12  c rinku singh b washington sundar  37  26   2   2  142.31  0  \n",
              "13                            not out  18  10   1   1  180.00  0  "
            ]
          },
          "execution_count": 87,
          "metadata": {},
          "output_type": "execute_result"
        }
      ],
      "source": [
        "df = pd.DataFrame(data)\n",
        "df"
      ]
    },
    {
      "cell_type": "code",
      "execution_count": null,
      "metadata": {
        "colab": {
          "base_uri": "https://localhost:8080/"
        },
        "id": "3i9PiMGxU4P8",
        "outputId": "4c8fcc21-1b64-4291-e320-5b2a95f01562"
      },
      "outputs": [
        {
          "data": {
            "text/plain": [
              "{'id': 'a254feed-0d7c-4f04-a2ab-7bf9ceef156b', 'name': 'Yashasvi Jaiswal'}"
            ]
          },
          "execution_count": 90,
          "metadata": {},
          "output_type": "execute_result"
        }
      ],
      "source": [
        "df.iloc[0,0]"
      ]
    },
    {
      "cell_type": "code",
      "execution_count": null,
      "metadata": {
        "id": "45gs1QGGVFFp"
      },
      "outputs": [],
      "source": []
    }
  ],
  "metadata": {
    "colab": {
      "authorship_tag": "ABX9TyMHVlHWincBH8hf4PNttbhe",
      "include_colab_link": true,
      "provenance": []
    },
    "kernelspec": {
      "display_name": "Python 3",
      "name": "python3"
    },
    "language_info": {
      "codemirror_mode": {
        "name": "ipython",
        "version": 3
      },
      "file_extension": ".py",
      "mimetype": "text/x-python",
      "name": "python",
      "nbconvert_exporter": "python",
      "pygments_lexer": "ipython3",
      "version": "3.9.6"
    }
  },
  "nbformat": 4,
  "nbformat_minor": 0
}
