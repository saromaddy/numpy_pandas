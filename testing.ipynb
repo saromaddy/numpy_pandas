{
 "cells": [
  {
   "cell_type": "code",
   "execution_count": 1,
   "metadata": {},
   "outputs": [
    {
     "name": "stdout",
     "output_type": "stream",
     "text": [
      "Original DataFrame:\n",
      "   id                            info\n",
      "0   1    {'name': 'Alice', 'age': 25}\n",
      "1   2      {'name': 'Bob', 'age': 30}\n",
      "2   3  {'name': 'Charlie', 'age': 35}\n",
      "\n",
      "DataFrame with 'name' extracted:\n",
      "   id                            info     name\n",
      "0   1    {'name': 'Alice', 'age': 25}    Alice\n",
      "1   2      {'name': 'Bob', 'age': 30}      Bob\n",
      "2   3  {'name': 'Charlie', 'age': 35}  Charlie\n",
      "\n",
      "Names from each dictionary:\n",
      "Alice\n",
      "Bob\n",
      "Charlie\n"
     ]
    }
   ],
   "source": [
    "import pandas as pd\n",
    "\n",
    "# Sample DataFrame with a dictionary column\n",
    "data = {\n",
    "    'id': [1, 2, 3],\n",
    "    'info': [{'name': 'Alice', 'age': 25}, {'name': 'Bob', 'age': 30}, {'name': 'Charlie', 'age': 35}]\n",
    "}\n",
    "\n",
    "df = pd.DataFrame(data)\n",
    "\n",
    "# Print the DataFrame\n",
    "print(\"Original DataFrame:\")\n",
    "print(df)\n",
    "\n",
    "# Access a specific element within the dictionary, e.g., 'name'\n",
    "df['name'] = df['info'].apply(lambda x: x['name'])\n",
    "\n",
    "# Print the updated DataFrame\n",
    "print(\"\\nDataFrame with 'name' extracted:\")\n",
    "print(df)\n",
    "\n",
    "# Optionally, print a specific element directly\n",
    "print(\"\\nNames from each dictionary:\")\n",
    "for name in df['name']:\n",
    "    print(name)\n"
   ]
  },
  {
   "cell_type": "code",
   "execution_count": 2,
   "metadata": {},
   "outputs": [
    {
     "name": "stdout",
     "output_type": "stream",
     "text": [
      "Original DataFrame:\n",
      "   id                                               info\n",
      "0   1   {'name': 'Alice', 'age': 25, 'city': 'New York'}\n",
      "1   2  {'name': 'Bob', 'age': 30, 'city': 'Los Angeles'}\n",
      "2   3  {'name': 'Charlie', 'age': 35, 'city': 'Chicago'}\n",
      "3   4    {'name': 'David', 'age': 40, 'city': 'Houston'}\n",
      "4   5      {'name': 'Eve', 'age': 45, 'city': 'Phoenix'}\n"
     ]
    }
   ],
   "source": [
    "import pandas as pd\n",
    "\n",
    "# Sample DataFrame\n",
    "data = {\n",
    "    'id': [1, 2, 3, 4, 5],\n",
    "    'info': [\n",
    "        {'name': 'Alice', 'age': 25, 'city': 'New York'},\n",
    "        {'name': 'Bob', 'age': 30, 'city': 'Los Angeles'},\n",
    "        {'name': 'Charlie', 'age': 35, 'city': 'Chicago'},\n",
    "        {'name': 'David', 'age': 40, 'city': 'Houston'},\n",
    "        {'name': 'Eve', 'age': 45, 'city': 'Phoenix'}\n",
    "    ]\n",
    "}\n",
    "\n",
    "df = pd.DataFrame(data)\n",
    "\n",
    "# Print the original DataFrame\n",
    "print(\"Original DataFrame:\")\n",
    "print(df)\n"
   ]
  },
  {
   "cell_type": "code",
   "execution_count": 3,
   "metadata": {},
   "outputs": [],
   "source": [
    "df['name'] = df['info'].apply(lambda x: x['name'])"
   ]
  },
  {
   "cell_type": "code",
   "execution_count": 4,
   "metadata": {},
   "outputs": [
    {
     "data": {
      "text/html": [
       "<div>\n",
       "<style scoped>\n",
       "    .dataframe tbody tr th:only-of-type {\n",
       "        vertical-align: middle;\n",
       "    }\n",
       "\n",
       "    .dataframe tbody tr th {\n",
       "        vertical-align: top;\n",
       "    }\n",
       "\n",
       "    .dataframe thead th {\n",
       "        text-align: right;\n",
       "    }\n",
       "</style>\n",
       "<table border=\"1\" class=\"dataframe\">\n",
       "  <thead>\n",
       "    <tr style=\"text-align: right;\">\n",
       "      <th></th>\n",
       "      <th>id</th>\n",
       "      <th>info</th>\n",
       "      <th>name</th>\n",
       "    </tr>\n",
       "  </thead>\n",
       "  <tbody>\n",
       "    <tr>\n",
       "      <th>0</th>\n",
       "      <td>1</td>\n",
       "      <td>{'name': 'Alice', 'age': 25, 'city': 'New York'}</td>\n",
       "      <td>Alice</td>\n",
       "    </tr>\n",
       "    <tr>\n",
       "      <th>1</th>\n",
       "      <td>2</td>\n",
       "      <td>{'name': 'Bob', 'age': 30, 'city': 'Los Angeles'}</td>\n",
       "      <td>Bob</td>\n",
       "    </tr>\n",
       "    <tr>\n",
       "      <th>2</th>\n",
       "      <td>3</td>\n",
       "      <td>{'name': 'Charlie', 'age': 35, 'city': 'Chicago'}</td>\n",
       "      <td>Charlie</td>\n",
       "    </tr>\n",
       "    <tr>\n",
       "      <th>3</th>\n",
       "      <td>4</td>\n",
       "      <td>{'name': 'David', 'age': 40, 'city': 'Houston'}</td>\n",
       "      <td>David</td>\n",
       "    </tr>\n",
       "    <tr>\n",
       "      <th>4</th>\n",
       "      <td>5</td>\n",
       "      <td>{'name': 'Eve', 'age': 45, 'city': 'Phoenix'}</td>\n",
       "      <td>Eve</td>\n",
       "    </tr>\n",
       "  </tbody>\n",
       "</table>\n",
       "</div>"
      ],
      "text/plain": [
       "   id                                               info     name\n",
       "0   1   {'name': 'Alice', 'age': 25, 'city': 'New York'}    Alice\n",
       "1   2  {'name': 'Bob', 'age': 30, 'city': 'Los Angeles'}      Bob\n",
       "2   3  {'name': 'Charlie', 'age': 35, 'city': 'Chicago'}  Charlie\n",
       "3   4    {'name': 'David', 'age': 40, 'city': 'Houston'}    David\n",
       "4   5      {'name': 'Eve', 'age': 45, 'city': 'Phoenix'}      Eve"
      ]
     },
     "execution_count": 4,
     "metadata": {},
     "output_type": "execute_result"
    }
   ],
   "source": [
    "df"
   ]
  },
  {
   "cell_type": "code",
   "execution_count": null,
   "metadata": {},
   "outputs": [],
   "source": []
  }
 ],
 "metadata": {
  "kernelspec": {
   "display_name": "Python 3",
   "language": "python",
   "name": "python3"
  },
  "language_info": {
   "codemirror_mode": {
    "name": "ipython",
    "version": 3
   },
   "file_extension": ".py",
   "mimetype": "text/x-python",
   "name": "python",
   "nbconvert_exporter": "python",
   "pygments_lexer": "ipython3",
   "version": "3.9.6"
  }
 },
 "nbformat": 4,
 "nbformat_minor": 2
}
